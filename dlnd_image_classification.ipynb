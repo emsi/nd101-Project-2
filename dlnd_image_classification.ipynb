{
 "cells": [
  {
   "cell_type": "markdown",
   "metadata": {
    "collapsed": true
   },
   "source": [
    "# Image Classification\n",
    "In this project, you'll classify images from the [CIFAR-10 dataset](https://www.cs.toronto.edu/~kriz/cifar.html).  The dataset consists of airplanes, dogs, cats, and other objects. You'll preprocess the images, then train a convolutional neural network on all the samples. The images need to be normalized and the labels need to be one-hot encoded.  You'll get to apply what you learned and build a convolutional, max pooling, dropout, and fully connected layers.  At the end, you'll get to see your neural network's predictions on the sample images.\n",
    "## Get the Data\n",
    "Run the following cell to download the [CIFAR-10 dataset for python](https://www.cs.toronto.edu/~kriz/cifar-10-python.tar.gz)."
   ]
  },
  {
   "cell_type": "code",
   "execution_count": 2,
   "metadata": {},
   "outputs": [
    {
     "name": "stderr",
     "output_type": "stream",
     "text": [
      "CIFAR-10 Dataset: 171MB [00:55, 3.07MB/s]                              \n"
     ]
    },
    {
     "name": "stdout",
     "output_type": "stream",
     "text": [
      "All files found!\n"
     ]
    }
   ],
   "source": [
    "\"\"\"\n",
    "DON'T MODIFY ANYTHING IN THIS CELL THAT IS BELOW THIS LINE\n",
    "\"\"\"\n",
    "from urllib.request import urlretrieve\n",
    "from os.path import isfile, isdir\n",
    "from tqdm import tqdm\n",
    "import problem_unittests as tests\n",
    "import tarfile\n",
    "\n",
    "cifar10_dataset_folder_path = 'cifar-10-batches-py'\n",
    "\n",
    "# Use Floyd's cifar-10 dataset if present\n",
    "floyd_cifar10_location = '/input/cifar-10/python.tar.gz'\n",
    "if isfile(floyd_cifar10_location):\n",
    "    tar_gz_path = floyd_cifar10_location\n",
    "else:\n",
    "    tar_gz_path = 'cifar-10-python.tar.gz'\n",
    "\n",
    "class DLProgress(tqdm):\n",
    "    last_block = 0\n",
    "\n",
    "    def hook(self, block_num=1, block_size=1, total_size=None):\n",
    "        self.total = total_size\n",
    "        self.update((block_num - self.last_block) * block_size)\n",
    "        self.last_block = block_num\n",
    "\n",
    "if not isfile(tar_gz_path):\n",
    "    with DLProgress(unit='B', unit_scale=True, miniters=1, desc='CIFAR-10 Dataset') as pbar:\n",
    "        urlretrieve(\n",
    "            'https://www.cs.toronto.edu/~kriz/cifar-10-python.tar.gz',\n",
    "            tar_gz_path,\n",
    "            pbar.hook)\n",
    "\n",
    "if not isdir(cifar10_dataset_folder_path):\n",
    "    with tarfile.open(tar_gz_path) as tar:\n",
    "        tar.extractall()\n",
    "        tar.close()\n",
    "\n",
    "\n",
    "tests.test_folder_path(cifar10_dataset_folder_path)"
   ]
  },
  {
   "cell_type": "markdown",
   "metadata": {},
   "source": [
    "## Explore the Data\n",
    "The dataset is broken into batches to prevent your machine from running out of memory.  The CIFAR-10 dataset consists of 5 batches, named `data_batch_1`, `data_batch_2`, etc.. Each batch contains the labels and images that are one of the following:\n",
    "* airplane\n",
    "* automobile\n",
    "* bird\n",
    "* cat\n",
    "* deer\n",
    "* dog\n",
    "* frog\n",
    "* horse\n",
    "* ship\n",
    "* truck\n",
    "\n",
    "Understanding a dataset is part of making predictions on the data.  Play around with the code cell below by changing the `batch_id` and `sample_id`. The `batch_id` is the id for a batch (1-5). The `sample_id` is the id for a image and label pair in the batch.\n",
    "\n",
    "Ask yourself \"What are all possible labels?\", \"What is the range of values for the image data?\", \"Are the labels in order or random?\".  Answers to questions like these will help you preprocess the data and end up with better predictions."
   ]
  },
  {
   "cell_type": "code",
   "execution_count": 7,
   "metadata": {},
   "outputs": [
    {
     "name": "stdout",
     "output_type": "stream",
     "text": [
      "\n",
      "Stats of batch 3:\n",
      "Samples: 10000\n",
      "Label Counts: {0: 994, 1: 1042, 2: 965, 3: 997, 4: 990, 5: 1029, 6: 978, 7: 1015, 8: 961, 9: 1029}\n",
      "First 20 Labels: [8, 5, 0, 6, 9, 2, 8, 3, 6, 2, 7, 4, 6, 9, 0, 0, 7, 3, 7, 2]\n",
      "\n",
      "Example of Image 502:\n",
      "Image - Min Value: 0 Max Value: 236\n",
      "Image - Shape: (32, 32, 3)\n",
      "Label - Label Id: 8 Name: ship\n"
     ]
    },
    {
     "data": {
      "image/png": "[encoded data removed]",
      "text/plain": [
       "<matplotlib.figure.Figure at 0x7fc85d2a64e0>"
      ]
     },
     "metadata": {
      "image/png": {
       "height": 250,
       "width": 253
      }
     },
     "output_type": "display_data"
    }
   ],
   "source": [
    "%matplotlib inline\n",
    "#%config InlineBackend.figure_format = 'retina'\n",
    "\n",
    "import helper\n",
    "import numpy as np\n",
    "\n",
    "# Explore the dataset\n",
    "batch_id = 3\n",
    "sample_id = 502\n",
    "helper.display_stats(cifar10_dataset_folder_path, batch_id, sample_id)"
   ]
  },
  {
   "cell_type": "markdown",
   "metadata": {},
   "source": [
    "## Implement Preprocess Functions\n",
    "### Normalize\n",
    "In the cell below, implement the `normalize` function to take in image data, `x`, and return it as a normalized Numpy array. The values should be in the range of 0 to 1, inclusive.  The return object should be the same shape as `x`."
   ]
  },
  {
   "cell_type": "code",
   "execution_count": 9,
   "metadata": {},
   "outputs": [
    {
     "name": "stdout",
     "output_type": "stream",
     "text": [
      "Tests Passed\n"
     ]
    }
   ],
   "source": [
    "def normalize(x):\n",
    "    \"\"\"\n",
    "    Normalize a list of sample image data in the range of 0 to 1\n",
    "    : x: List of image data.  The image shape is (32, 32, 3)\n",
    "    : return: Numpy array of normalize data\n",
    "    \"\"\"\n",
    "    # TODO: Implement Function\n",
    "    return np.divide(x,255)\n",
    "\n",
    "\n",
    "\"\"\"\n",
    "DON'T MODIFY ANYTHING IN THIS CELL THAT IS BELOW THIS LINE\n",
    "\"\"\"\n",
    "tests.test_normalize(normalize)"
   ]
  },
  {
   "cell_type": "markdown",
   "metadata": {},
   "source": [
    "### One-hot encode\n",
    "Just like the previous code cell, you'll be implementing a function for preprocessing.  This time, you'll implement the `one_hot_encode` function. The input, `x`, are a list of labels.  Implement the function to return the list of labels as One-Hot encoded Numpy array.  The possible values for labels are 0 to 9. The one-hot encoding function should return the same encoding for each value between each call to `one_hot_encode`.  Make sure to save the map of encodings outside the function.\n",
    "\n",
    "Hint: Don't reinvent the wheel."
   ]
  },
  {
   "cell_type": "code",
   "execution_count": 13,
   "metadata": {},
   "outputs": [
    {
     "name": "stdout",
     "output_type": "stream",
     "text": [
      "Tests Passed\n"
     ]
    }
   ],
   "source": [
    "from sklearn import  preprocessing\n",
    "def one_hot_encode(x):\n",
    "    \"\"\"\n",
    "    One hot encode a list of sample labels. Return a one-hot encoded vector for each label.\n",
    "    : x: List of sample Labels\n",
    "    : return: Numpy array of one-hot encoded labels\n",
    "    \"\"\"\n",
    "\n",
    "    if 'binarizer' not in globals():\n",
    "        global binarizer\n",
    "        binarizer=preprocessing.LabelBinarizer()\n",
    "        binarizer.fit(x)\n",
    "    return binarizer.transform(x)\n",
    "\n",
    "\n",
    "\"\"\"\n",
    "DON'T MODIFY ANYTHING IN THIS CELL THAT IS BELOW THIS LINE\n",
    "\"\"\"\n",
    "tests.test_one_hot_encode(one_hot_encode)"
   ]
  },
  {
   "cell_type": "markdown",
   "metadata": {},
   "source": [
    "### Randomize Data\n",
    "As you saw from exploring the data above, the order of the samples are randomized.  It doesn't hurt to randomize it again, but you don't need to for this dataset."
   ]
  },
  {
   "cell_type": "markdown",
   "metadata": {},
   "source": [
    "## Preprocess all the data and save it\n",
    "Running the code cell below will preprocess all the CIFAR-10 data and save it to file. The code below also uses 10% of the training data for validation."
   ]
  },
  {
   "cell_type": "code",
   "execution_count": 14,
   "metadata": {
    "collapsed": true
   },
   "outputs": [],
   "source": [
    "\"\"\"\n",
    "DON'T MODIFY ANYTHING IN THIS CELL\n",
    "\"\"\"\n",
    "# Preprocess Training, Validation, and Testing Data\n",
    "helper.preprocess_and_save_data(cifar10_dataset_folder_path, normalize, one_hot_encode)"
   ]
  },
  {
   "cell_type": "markdown",
   "metadata": {},
   "source": [
    "# Check Point\n",
    "This is your first checkpoint.  If you ever decide to come back to this notebook or have to restart the notebook, you can start from here.  The preprocessed data has been saved to disk."
   ]
  },
  {
   "cell_type": "code",
   "execution_count": 1,
   "metadata": {
    "collapsed": true
   },
   "outputs": [],
   "source": [
    "\"\"\"\n",
    "DON'T MODIFY ANYTHING IN THIS CELL\n",
    "\"\"\"\n",
    "import pickle\n",
    "import problem_unittests as tests\n",
    "import helper\n",
    "\n",
    "# Load the Preprocessed Validation data\n",
    "valid_features, valid_labels = pickle.load(open('preprocess_validation.p', mode='rb'))"
   ]
  },
  {
   "cell_type": "markdown",
   "metadata": {},
   "source": [
    "## Build the network\n",
    "For the neural network, you'll build each layer into a function.  Most of the code you've seen has been outside of functions. To test your code more thoroughly, we require that you put each layer in a function.  This allows us to give you better feedback and test for simple mistakes using our unittests before you submit your project.\n",
    "\n",
    ">**Note:** If you're finding it hard to dedicate enough time for this course each week, we've provided a small shortcut to this part of the project. In the next couple of problems, you'll have the option to use classes from the [TensorFlow Layers](https://www.tensorflow.org/api_docs/python/tf/layers) or [TensorFlow Layers (contrib)](https://www.tensorflow.org/api_guides/python/contrib.layers) packages to build each layer, except the layers you build in the \"Convolutional and Max Pooling Layer\" section.  TF Layers is similar to Keras's and TFLearn's abstraction to layers, so it's easy to pickup.\n",
    "\n",
    ">However, if you would like to get the most out of this course, try to solve all the problems _without_ using anything from the TF Layers packages. You **can** still use classes from other packages that happen to have the same name as ones you find in TF Layers! For example, instead of using the TF Layers version of the `conv2d` class, [tf.layers.conv2d](https://www.tensorflow.org/api_docs/python/tf/layers/conv2d), you would want to use the TF Neural Network version of `conv2d`, [tf.nn.conv2d](https://www.tensorflow.org/api_docs/python/tf/nn/conv2d). \n",
    "\n",
    "Let's begin!\n",
    "\n",
    "### Input\n",
    "The neural network needs to read the image data, one-hot encoded labels, and dropout keep probability. Implement the following functions\n",
    "* Implement `neural_net_image_input`\n",
    " * Return a [TF Placeholder](https://www.tensorflow.org/api_docs/python/tf/placeholder)\n",
    " * Set the shape using `image_shape` with batch size set to `None`.\n",
    " * Name the TensorFlow placeholder \"x\" using the TensorFlow `name` parameter in the [TF Placeholder](https://www.tensorflow.org/api_docs/python/tf/placeholder).\n",
    "* Implement `neural_net_label_input`\n",
    " * Return a [TF Placeholder](https://www.tensorflow.org/api_docs/python/tf/placeholder)\n",
    " * Set the shape using `n_classes` with batch size set to `None`.\n",
    " * Name the TensorFlow placeholder \"y\" using the TensorFlow `name` parameter in the [TF Placeholder](https://www.tensorflow.org/api_docs/python/tf/placeholder).\n",
    "* Implement `neural_net_keep_prob_input`\n",
    " * Return a [TF Placeholder](https://www.tensorflow.org/api_docs/python/tf/placeholder) for dropout keep probability.\n",
    " * Name the TensorFlow placeholder \"keep_prob\" using the TensorFlow `name` parameter in the [TF Placeholder](https://www.tensorflow.org/api_docs/python/tf/placeholder).\n",
    "\n",
    "These names will be used at the end of the project to load your saved model.\n",
    "\n",
    "Note: `None` for shapes in TensorFlow allow for a dynamic size."
   ]
  },
  {
   "cell_type": "code",
   "execution_count": 2,
   "metadata": {},
   "outputs": [
    {
     "name": "stdout",
     "output_type": "stream",
     "text": [
      "Image Input Tests Passed.\n",
      "Label Input Tests Passed.\n",
      "Keep Prob Tests Passed.\n"
     ]
    }
   ],
   "source": [
    "import tensorflow as tf\n",
    "\n",
    "def neural_net_image_input(image_shape):\n",
    "    \"\"\"\n",
    "    Return a Tensor for a batch of image input\n",
    "    : image_shape: Shape of the images\n",
    "    : return: Tensor for image input.\n",
    "    \"\"\"\n",
    "    # Set the shape using image_shape with batch size set to None.\n",
    "    image_shape=(None,)+image_shape\n",
    "\n",
    "    # Return a TF Placeholder\n",
    "    # Name the TensorFlow placeholder \"x\" using the TensorFlow name parameter in the TF Placeholder.\n",
    "    return tf.placeholder(tf.float32, image_shape, name=\"x\")\n",
    "\n",
    "\n",
    "def neural_net_label_input(n_classes):\n",
    "    \"\"\"\n",
    "    Return a Tensor for a batch of label input\n",
    "    : n_classes: Number of classes\n",
    "    : return: Tensor for label input.\n",
    "    \"\"\"\n",
    "    # Set the shape using n_classes with batch size set to None.\n",
    "    n_classes=(None,n_classes)\n",
    "    # Return a TF Placeholder\n",
    "    # Name the TensorFlow placeholder \"y\" using the TensorFlow name parameter in the TF Placeholder.\n",
    "    return tf.placeholder(tf.float32, n_classes, name=\"y\")\n",
    "\n",
    "\n",
    "def neural_net_keep_prob_input():\n",
    "    \"\"\"\n",
    "    Return a Tensor for keep probability\n",
    "    : return: Tensor for keep probability.\n",
    "    \"\"\"\n",
    "\n",
    "    # Return a TF Placeholder for dropout keep probability.\n",
    "    # Name the TensorFlow placeholder \"keep_prob\" using the TensorFlow name parameter in the TF Placeholder.\n",
    "    return tf.placeholder(tf.float32, name=\"keep_prob\")\n",
    "\n",
    "\n",
    "\"\"\"\n",
    "DON'T MODIFY ANYTHING IN THIS CELL THAT IS BELOW THIS LINE\n",
    "\"\"\"\n",
    "tf.reset_default_graph()\n",
    "tests.test_nn_image_inputs(neural_net_image_input)\n",
    "tests.test_nn_label_inputs(neural_net_label_input)\n",
    "tests.test_nn_keep_prob_inputs(neural_net_keep_prob_input)"
   ]
  },
  {
   "cell_type": "markdown",
   "metadata": {},
   "source": [
    "### Convolution and Max Pooling Layer\n",
    "Convolution layers have a lot of success with images. For this code cell, you should implement the function `conv2d_maxpool` to apply convolution then max pooling:\n",
    "* Create the weight and bias using `conv_ksize`, `conv_num_outputs` and the shape of `x_tensor`.\n",
    "* Apply a convolution to `x_tensor` using weight and `conv_strides`.\n",
    " * We recommend you use same padding, but you're welcome to use any padding.\n",
    "* Add bias\n",
    "* Add a nonlinear activation to the convolution.\n",
    "* Apply Max Pooling using `pool_ksize` and `pool_strides`.\n",
    " * We recommend you use same padding, but you're welcome to use any padding.\n",
    "\n",
    "**Note:** You **can't** use [TensorFlow Layers](https://www.tensorflow.org/api_docs/python/tf/layers) or [TensorFlow Layers (contrib)](https://www.tensorflow.org/api_guides/python/contrib.layers) for **this** layer, but you can still use TensorFlow's [Neural Network](https://www.tensorflow.org/api_docs/python/tf/nn) package. You may still use the shortcut option for all the **other** layers."
   ]
  },
  {
   "cell_type": "code",
   "execution_count": 3,
   "metadata": {},
   "outputs": [
    {
     "name": "stdout",
     "output_type": "stream",
     "text": [
      "Tests Passed\n"
     ]
    }
   ],
   "source": [
    "def conv2d_maxpool(x_tensor, conv_num_outputs, conv_ksize, conv_strides, pool_ksize, pool_strides):\n",
    "    \"\"\"\n",
    "    Apply convolution then max pooling to x_tensor\n",
    "    :param x_tensor: TensorFlow Tensor\n",
    "    :param conv_num_outputs: Number of outputs for the convolutional layer\n",
    "    :param conv_ksize: kernal size 2-D Tuple for the convolutional layer\n",
    "    :param conv_strides: Stride 2-D Tuple for convolution\n",
    "    :param pool_ksize: kernal size 2-D Tuple for pool\n",
    "    :param pool_strides: Stride 2-D Tuple for pool\n",
    "    : return: A tensor that represents convolution and max pooling of x_tensor\n",
    "    \"\"\"\n",
    "    \n",
    "    # Create the weight and bias using conv_ksize, conv_num_outputs and the shape of x_tensor.\n",
    "    (_, _, _, depth) =x_tensor.shape # extract shape\n",
    "    filter_size_height=conv_ksize[0]\n",
    "    filter_size_width =conv_ksize[1]\n",
    "    \n",
    "#     # The instruction says it's not allowed to use contrib.layers but I'm pretty sure it didn't mean the weight initializer.\n",
    "#     # use glorot_uniform distribution https://www.tensorflow.org/api_docs/python/tf/contrib/layers/xavier_initializer\n",
    "#     weight = tf.get_variable(\"conv_weight\", \n",
    "#                              shape=[filter_size_height, filter_size_width, depth.value, conv_num_outputs], \n",
    "#                              initializer=tf.contrib.layers.xavier_initializer_conv2d())\n",
    "\n",
    "    weight = tf.Variable(tf.truncated_normal(\n",
    "        [filter_size_height, filter_size_width, depth.value, conv_num_outputs]\n",
    "        ))\n",
    "    bias = tf.Variable(tf.zeros(conv_num_outputs))\n",
    "    \n",
    "    # Apply a convolution to x_tensor using weight and conv_strides\n",
    "    conv_strides = (1,)+conv_strides+(1,) # use strined of 1 for each sample in the bacth and color channel\n",
    "    conv_layer = tf.nn.conv2d(x_tensor, weight, strides=conv_strides, padding=\"SAME\")\n",
    "    # Add bias\n",
    "    conv_layer = tf.nn.bias_add(conv_layer, bias)\n",
    "    # Add a nonlinear activation to the convolution.\n",
    "    conv_layer = tf.nn.relu(conv_layer)\n",
    "    \n",
    "    # Apply Max Pooling using pool_ksize and pool_strides.\n",
    "    pool_ksize=(1,)+pool_ksize+(1,)\n",
    "    pool_strides=(1,)+pool_strides+(1,)\n",
    "    conv_layer = tf.nn.max_pool(conv_layer, ksize=pool_ksize, strides=pool_strides, padding=\"SAME\")\n",
    "    return conv_layer\n",
    "\n",
    "\"\"\"\n",
    "DON'T MODIFY ANYTHING IN THIS CELL THAT IS BELOW THIS LINE\n",
    "\"\"\"\n",
    "tests.test_con_pool(conv2d_maxpool)"
   ]
  },
  {
   "cell_type": "markdown",
   "metadata": {},
   "source": [
    "### Flatten Layer\n",
    "Implement the `flatten` function to change the dimension of `x_tensor` from a 4-D tensor to a 2-D tensor.  The output should be the shape (*Batch Size*, *Flattened Image Size*). Shortcut option: you can use classes from the [TensorFlow Layers](https://www.tensorflow.org/api_docs/python/tf/layers) or [TensorFlow Layers (contrib)](https://www.tensorflow.org/api_guides/python/contrib.layers) packages for this layer. For more of a challenge, only use other TensorFlow packages."
   ]
  },
  {
   "cell_type": "code",
   "execution_count": 4,
   "metadata": {},
   "outputs": [
    {
     "name": "stdout",
     "output_type": "stream",
     "text": [
      "Tests Passed\n"
     ]
    }
   ],
   "source": [
    "def flatten(x_tensor):\n",
    "    \"\"\"\n",
    "    Flatten x_tensor to (Batch Size, Flattened Image Size)\n",
    "    : x_tensor: A tensor of size (Batch Size, ...), where ... are the image dimensions.\n",
    "    : return: A tensor of size (Batch Size, Flattened Image Size).\n",
    "    \"\"\"\n",
    "    # Flatten x_tensor to (Batch Size, Flattened Image Size)\n",
    "    (_, h, w, d) =x_tensor.shape # extract shape as TF's Dimension objects\n",
    "    # flattened image size\n",
    "    flattened_size=h*w*d    \n",
    "    return tf.reshape(x_tensor, [-1, flattened_size.value])\n",
    "    pass\n",
    "\n",
    "\n",
    "\"\"\"\n",
    "DON'T MODIFY ANYTHING IN THIS CELL THAT IS BELOW THIS LINE\n",
    "\"\"\"\n",
    "tests.test_flatten(flatten)"
   ]
  },
  {
   "cell_type": "markdown",
   "metadata": {},
   "source": [
    "### Fully-Connected Layer\n",
    "Implement the `fully_conn` function to apply a fully connected layer to `x_tensor` with the shape (*Batch Size*, *num_outputs*). Shortcut option: you can use classes from the [TensorFlow Layers](https://www.tensorflow.org/api_docs/python/tf/layers) or [TensorFlow Layers (contrib)](https://www.tensorflow.org/api_guides/python/contrib.layers) packages for this layer. For more of a challenge, only use other TensorFlow packages."
   ]
  },
  {
   "cell_type": "code",
   "execution_count": 5,
   "metadata": {},
   "outputs": [
    {
     "name": "stdout",
     "output_type": "stream",
     "text": [
      "Tests Passed\n"
     ]
    }
   ],
   "source": [
    "def fully_conn(x_tensor, num_outputs):\n",
    "    \"\"\"\n",
    "    Apply a fully connected layer to x_tensor using weight and bias\n",
    "    : x_tensor: A 2-D tensor where the first dimension is batch size.\n",
    "    : num_outputs: The number of output that the new tensor should be.\n",
    "    : return: A 2-D tensor where the second dimension is num_outputs.\n",
    "    \"\"\"\n",
    "    \n",
    "    (_, size) =x_tensor.shape # extract shape as TF's Dimension objects\n",
    "    \n",
    "#     # use glorot_uniform distribution https://www.tensorflow.org/api_docs/python/tf/contrib/layers/xavier_initializer\n",
    "#     weight = tf.get_variable(\"dense_weight\",\n",
    "#                              shape=[size.value, num_outputs],\n",
    "#                              initializer=tf.contrib.layers.xavier_initializer())\n",
    "    weight = tf.Variable(tf.truncated_normal(\n",
    "        [size.value, num_outputs]\n",
    "        ))\n",
    "    bias = tf.Variable(tf.zeros(num_outputs))\n",
    "    \n",
    "    fc = tf.add(tf.matmul(x_tensor, weight), bias)\n",
    "    return tf.nn.relu(fc)\n",
    "\n",
    "\n",
    "\"\"\"\n",
    "DON'T MODIFY ANYTHING IN THIS CELL THAT IS BELOW THIS LINE\n",
    "\"\"\"\n",
    "tests.test_fully_conn(fully_conn)"
   ]
  },
  {
   "cell_type": "markdown",
   "metadata": {},
   "source": [
    "### Output Layer\n",
    "Implement the `output` function to apply a fully connected layer to `x_tensor` with the shape (*Batch Size*, *num_outputs*). Shortcut option: you can use classes from the [TensorFlow Layers](https://www.tensorflow.org/api_docs/python/tf/layers) or [TensorFlow Layers (contrib)](https://www.tensorflow.org/api_guides/python/contrib.layers) packages for this layer. For more of a challenge, only use other TensorFlow packages.\n",
    "\n",
    "**Note:** Activation, softmax, or cross entropy should **not** be applied to this."
   ]
  },
  {
   "cell_type": "code",
   "execution_count": 6,
   "metadata": {},
   "outputs": [
    {
     "name": "stdout",
     "output_type": "stream",
     "text": [
      "Tests Passed\n"
     ]
    }
   ],
   "source": [
    "def output(x_tensor, num_outputs):\n",
    "    \"\"\"\n",
    "    Apply a output layer to x_tensor using weight and bias\n",
    "    : x_tensor: A 2-D tensor where the first dimension is batch size.\n",
    "    : num_outputs: The number of output that the new tensor should be.\n",
    "    : return: A 2-D tensor where the second dimension is num_outputs.\n",
    "    \"\"\"\n",
    "    (_, size) =x_tensor.shape # extract shape as TF's Dimension objects    \n",
    "    \n",
    "#     # use glorot_uniform distribution https://www.tensorflow.org/api_docs/python/tf/contrib/layers/xavier_initializer\n",
    "#     weight = tf.get_variable(\"out_weight\", \n",
    "#                              shape=[size.value, num_outputs],\n",
    "#                              initializer=tf.contrib.layers.xavier_initializer())\n",
    "\n",
    "    weight = tf.Variable(tf.truncated_normal(\n",
    "        [size.value, num_outputs]\n",
    "        ))\n",
    "    bias = tf.Variable(tf.zeros(num_outputs))\n",
    "\n",
    "    return tf.add(tf.matmul(x_tensor, weight), bias)\n",
    "\n",
    "\"\"\"\n",
    "DON'T MODIFY ANYTHING IN THIS CELL THAT IS BELOW THIS LINE\n",
    "\"\"\"\n",
    "tests.test_output(output)"
   ]
  },
  {
   "cell_type": "markdown",
   "metadata": {},
   "source": [
    "### Create Convolutional Model\n",
    "Implement the function `conv_net` to create a convolutional neural network model. The function takes in a batch of images, `x`, and outputs logits.  Use the layers you created above to create this model:\n",
    "\n",
    "* Apply 1, 2, or 3 Convolution and Max Pool layers\n",
    "* Apply a Flatten Layer\n",
    "* Apply 1, 2, or 3 Fully Connected Layers\n",
    "* Apply an Output Layer\n",
    "* Return the output\n",
    "* Apply [TensorFlow's Dropout](https://www.tensorflow.org/api_docs/python/tf/nn/dropout) to one or more layers in the model using `keep_prob`. "
   ]
  },
  {
   "cell_type": "code",
   "execution_count": 16,
   "metadata": {},
   "outputs": [
    {
     "name": "stdout",
     "output_type": "stream",
     "text": [
      "Neural Network Built!\n"
     ]
    }
   ],
   "source": [
    "def conv_net(x, keep_prob):\n",
    "    \"\"\"\n",
    "    Create a convolutional neural network model\n",
    "    : x: Placeholder tensor that holds image data.\n",
    "    : keep_prob: Placeholder tensor that hold dropout keep probability.\n",
    "    : return: Tensor that represents logits\n",
    "    \"\"\"\n",
    "    # TODO: Apply 1, 2, or 3 Convolution and Max Pool layers\n",
    "    #    Play around with different number of outputs, kernel size and stride\n",
    "    # Function Definition from Above:\n",
    "    #    conv2d_maxpool(x_tensor, conv_num_outputs, conv_ksize, conv_strides, pool_ksize, pool_strides)\n",
    "    layer=conv2d_maxpool(x, 128, (5,5), (1,1), (2,2), (2,2))\n",
    "\n",
    "    # TODO: Apply a Flatten Layer\n",
    "    # Function Definition from Above:\n",
    "    #   flatten(x_tensor)\n",
    "    layer=flatten(layer)\n",
    "    layer=tf.nn.dropout(layer, keep_prob)\n",
    "\n",
    "    # TODO: Apply 1, 2, or 3 Fully Connected Layers\n",
    "    #    Play around with different number of outputs\n",
    "    # Function Definition from Above:\n",
    "    #   fully_conn(x_tensor, num_outputs)\n",
    "    layer=fully_conn(layer, 8192)\n",
    "    \n",
    "    # TODO: Apply an Output Layer\n",
    "    #    Set this to the number of classes\n",
    "    # Function Definition from Above:\n",
    "    #   output(x_tensor, num_outputs)    \n",
    "    layer = output(layer, 10)\n",
    "\n",
    "    # TODO: return output\n",
    "    return layer\n",
    "\n",
    "\n",
    "\"\"\"\n",
    "DON'T MODIFY ANYTHING IN THIS CELL THAT IS BELOW THIS LINE\n",
    "\"\"\"\n",
    "\n",
    "##############################\n",
    "## Build the Neural Network ##\n",
    "##############################\n",
    "\n",
    "# Remove previous weights, bias, inputs, etc..\n",
    "tf.reset_default_graph()\n",
    "\n",
    "# Inputs\n",
    "x = neural_net_image_input((32, 32, 3))\n",
    "y = neural_net_label_input(10)\n",
    "keep_prob = neural_net_keep_prob_input()\n",
    "\n",
    "# Model\n",
    "logits = conv_net(x, keep_prob)\n",
    "\n",
    "# Name logits Tensor, so that is can be loaded from disk after training\n",
    "logits = tf.identity(logits, name='logits')\n",
    "\n",
    "# Loss and Optimizer\n",
    "cost = tf.reduce_mean(tf.nn.softmax_cross_entropy_with_logits(logits=logits, labels=y))\n",
    "optimizer = tf.train.AdamOptimizer().minimize(cost)\n",
    "\n",
    "# Accuracy\n",
    "correct_pred = tf.equal(tf.argmax(logits, 1), tf.argmax(y, 1))\n",
    "accuracy = tf.reduce_mean(tf.cast(correct_pred, tf.float32), name='accuracy')\n",
    "\n",
    "tests.test_conv_net(conv_net)"
   ]
  },
  {
   "cell_type": "markdown",
   "metadata": {},
   "source": [
    "## Train the Neural Network\n",
    "### Single Optimization\n",
    "Implement the function `train_neural_network` to do a single optimization.  The optimization should use `optimizer` to optimize in `session` with a `feed_dict` of the following:\n",
    "* `x` for image input\n",
    "* `y` for labels\n",
    "* `keep_prob` for keep probability for dropout\n",
    "\n",
    "This function will be called for each batch, so `tf.global_variables_initializer()` has already been called.\n",
    "\n",
    "Note: Nothing needs to be returned. This function is only optimizing the neural network."
   ]
  },
  {
   "cell_type": "code",
   "execution_count": 9,
   "metadata": {},
   "outputs": [
    {
     "name": "stdout",
     "output_type": "stream",
     "text": [
      "Tests Passed\n"
     ]
    }
   ],
   "source": [
    "def train_neural_network(session, optimizer, keep_probability, feature_batch, label_batch):\n",
    "    \"\"\"\n",
    "    Optimize the session on a batch of images and labels\n",
    "    : session: Current TensorFlow session\n",
    "    : optimizer: TensorFlow optimizer function\n",
    "    : keep_probability: keep probability\n",
    "    : feature_batch: Batch of Numpy image data\n",
    "    : label_batch: Batch of Numpy label data\n",
    "    \"\"\"\n",
    "    # TODO: Implement Function\n",
    "    session.run(optimizer, feed_dict={\n",
    "        x: feature_batch,\n",
    "        y: label_batch,\n",
    "        keep_prob: keep_probability\n",
    "    })\n",
    "    pass\n",
    "\n",
    "\n",
    "\"\"\"\n",
    "DON'T MODIFY ANYTHING IN THIS CELL THAT IS BELOW THIS LINE\n",
    "\"\"\"\n",
    "tests.test_train_nn(train_neural_network)"
   ]
  },
  {
   "cell_type": "markdown",
   "metadata": {},
   "source": [
    "### Show Stats\n",
    "Implement the function `print_stats` to print loss and validation accuracy.  Use the global variables `valid_features` and `valid_labels` to calculate validation accuracy.  Use a keep probability of `1.0` to calculate the loss and validation accuracy."
   ]
  },
  {
   "cell_type": "code",
   "execution_count": 10,
   "metadata": {
    "collapsed": true
   },
   "outputs": [],
   "source": [
    "def print_stats(session, feature_batch, label_batch, cost, accuracy):\n",
    "    \"\"\"\n",
    "    Print information about loss and validation accuracy\n",
    "    : session: Current TensorFlow session\n",
    "    : feature_batch: Batch of Numpy image data\n",
    "    : label_batch: Batch of Numpy label data\n",
    "    : cost: TensorFlow cost function\n",
    "    : accuracy: TensorFlow accuracy function\n",
    "    \"\"\"\n",
    "    # bacth \n",
    "    batch_loss = session.run(cost, feed_dict={\n",
    "        x: feature_batch,\n",
    "        y: label_batch,\n",
    "        keep_prob: 1.0\n",
    "    })\n",
    "    batch_accuracy = session.run(accuracy, feed_dict={\n",
    "        x: feature_batch,\n",
    "        y: label_batch,\n",
    "        keep_prob: 1.0\n",
    "    })\n",
    "    # validation\n",
    "    valid_loss = session.run(cost, feed_dict={\n",
    "        x: valid_features,\n",
    "        y: valid_labels,\n",
    "        keep_prob: 1.0\n",
    "    })\n",
    "    valid_accuracy = session.run(accuracy, feed_dict={\n",
    "        x: valid_features,\n",
    "        y: valid_labels,\n",
    "        keep_prob: 1.0\n",
    "    })\n",
    "\n",
    "    print('Loss: {:>5.0f}, '.format(batch_loss), end='')\n",
    "    print(\"Accuracy: {:2.2f}%, | \".format(batch_accuracy*100), end='')\n",
    "    print('Valication Loss: {:>5.0f}, '.format(valid_loss), end='')\n",
    "    print(\"Valication Accuracy: {:2.2f}%\".format(valid_accuracy*100), end='')\n",
    "    print()\n",
    "    return (batch_loss, batch_accuracy, valid_loss, valid_accuracy)"
   ]
  },
  {
   "cell_type": "markdown",
   "metadata": {},
   "source": [
    "### Hyperparameters\n",
    "Tune the following parameters:\n",
    "* Set `epochs` to the number of iterations until the network stops learning or start overfitting\n",
    "* Set `batch_size` to the highest number that your machine has memory for.  Most people set them to common sizes of memory:\n",
    " * 64\n",
    " * 128\n",
    " * 256\n",
    " * ...\n",
    "* Set `keep_probability` to the probability of keeping a node using dropout"
   ]
  },
  {
   "cell_type": "markdown",
   "metadata": {},
   "source": [
    "# Seeking optimal parameters \n",
    "To find optimal architecture and parameters let's grid search the space of parameters.\n",
    "\n",
    "But first we need to declare some helper sunctions.\n",
    "\n",
    "One more thing: since I have access to 1080Ti I used all batches for the search because in the preliminary tests I found that throwing more data at model migh have unexpected consequences with respect to final results. If the model is too small training it with more data might negatively impact its classification ability.\n"
   ]
  },
  {
   "cell_type": "code",
   "execution_count": 108,
   "metadata": {
    "collapsed": true,
    "scrolled": true
   },
   "outputs": [],
   "source": [
    "import matplotlib\n",
    "import matplotlib.pyplot as plt\n",
    "matplotlib.rcParams['figure.figsize']=[12,8]\n",
    "from six.moves import cPickle as pickle\n",
    "import numpy as np\n",
    "\n",
    "def plot_accuracy(valid_accuracy, batch_accuracy, xlim=(10,None), ylim=(0.4,None), logscale=False):\n",
    "    plt.plot(valid_accuracy, label='Val accuracy')\n",
    "    plt.plot(batch_accuracy, label='Batch accuracy')\n",
    "    plt.ylabel(\"accuracy\")\n",
    "    plt.xlabel(\"epoch\")\n",
    "    if logscale:\n",
    "        plt.yscale('log')\n",
    "    plt.ylim(ylim)\n",
    "    plt.xlim(xlim)  # cut off the early results\n",
    "    plt.legend()\n",
    "    _ = plt.ylim()\n",
    "    plt.show()\n",
    "\n",
    "\n",
    "def get_stats(session, feature_batch, label_batch, cost, accuracy):\n",
    "    # bacth \n",
    "    batch_accuracy = session.run(accuracy, feed_dict={\n",
    "        x: feature_batch,\n",
    "        y: label_batch,\n",
    "        keep_prob: 1.0\n",
    "    })\n",
    "    # validation\n",
    "    if 'valid_batch_size' not in globals():\n",
    "        global valid_batch_size\n",
    "        valid_batch_size=len(valid_features)\n",
    "    valid_accuracy = session.run(accuracy, feed_dict={\n",
    "        x: valid_features[:valid_batch_size],\n",
    "        y: valid_labels[:valid_batch_size],\n",
    "        keep_prob: 1.0\n",
    "    })\n",
    "\n",
    "    return (batch_accuracy, valid_accuracy)\n",
    "\n",
    "\n",
    "def test_net(epochs, keep_probability=1.0, dn=2048, cf=16, early_stop=4, n_batches=5, \n",
    "             create_conv_net=create_conv_net, conv_ksize=(5,5), conv_strides=(1,1)):\n",
    "    # Remove previous weights, bias, inputs, etc..\n",
    "    tf.reset_default_graph()\n",
    "\n",
    "    # Inputs\n",
    "    global x, y, keep_prob\n",
    "    x = neural_net_image_input((32, 32, 3))\n",
    "    y = neural_net_label_input(10)\n",
    "    keep_prob = neural_net_keep_prob_input()\n",
    "\n",
    "    # Model\n",
    "    logits = create_conv_net(x, keep_probability, dn, cf,\n",
    "                            conv_ksize=conv_ksize, conv_strides=conv_strides)\n",
    "    #logits = conv_net(x, kp)#, dn, cf)\n",
    "\n",
    "    # Name logits Tensor, so that is can be loaded from disk after training\n",
    "    logits = tf.identity(logits, name='logits')\n",
    "\n",
    "    # Loss and Optimizer\n",
    "    cost = tf.reduce_mean(tf.nn.softmax_cross_entropy_with_logits(logits=logits, labels=y))\n",
    "    optimizer = tf.train.AdamOptimizer().minimize(cost)\n",
    "\n",
    "    # Accuracy\n",
    "    correct_pred = tf.equal(tf.argmax(logits, 1), tf.argmax(y, 1))\n",
    "    accuracy = tf.reduce_mean(tf.cast(correct_pred, tf.float32), name='accuracy')\n",
    "\n",
    "#    tests.test_conv_net(conv_net)\n",
    "    \n",
    "    with tf.Session() as sess:\n",
    "        # Initializing the variables\n",
    "        sess.run(tf.global_variables_initializer())\n",
    "\n",
    "        # Training cycle\n",
    "        batch_accuracy=[]\n",
    "        valid_accuracy=[]\n",
    "        for epoch in range(epochs):\n",
    "            # Loop over all batches\n",
    "            for batch_i in range(1, n_batches + 1):\n",
    "                for batch_features, batch_labels in helper.load_preprocess_training_batch(batch_i, batch_size):\n",
    "                    train_neural_network(sess, optimizer, keep_probability, batch_features, batch_labels)\n",
    "                (ba, va) = get_stats(sess, batch_features, batch_labels, cost, accuracy)\n",
    "                batch_accuracy.append(ba)\n",
    "                valid_accuracy.append(va)\n",
    "            # XXX: naive early stopping\n",
    "            if epoch>early_stop:\n",
    "#                 print(\"{:2.0f}% < {:2.0f}% \".format(100*np.mean(valid_accuracy[-(early_stop//2)*n_batches:]),\n",
    "#                                                     100*np.mean(valid_accuracy[-early_stop*n_batches:])), end='')                \n",
    "                if (np.mean(valid_accuracy[-(early_stop//2)*n_batches:])<np.mean(valid_accuracy[-early_stop*n_batches:])):\n",
    "                    print(\"Max Val Acc: {:2.2f}% | Early Stop Epoch: {}\".format(max(valid_accuracy)*100, epoch))\n",
    "                    return (batch_accuracy,valid_accuracy)\n",
    "                \n",
    "        print(\"Max Val Acc: {:2.2f}%\".format(max(valid_accuracy)*100))\n",
    "        \n",
    "        return (batch_accuracy,valid_accuracy)\n",
    "    \n",
    "\n",
    "# grid search parameters\n",
    "def find_optimal_hyperparameters(epochs=230, \n",
    "                                 keep_probability=(0.7, 0.8, 0.9, 1.0),\n",
    "                                 dense_neurons=(256,1024,2048,4096), \n",
    "                                 conv_filters=(16,32,64),\n",
    "                                 early_stop=4, n_batches=5,\n",
    "                                 create_conv_net=create_conv_net,\n",
    "                                 conv_ksize=(5,5), conv_strides=(1,1),\n",
    "                                ):\n",
    "    kp_a=[]\n",
    "    kp_va=[]\n",
    "    for kp in keep_probability:\n",
    "        dn_a=[]\n",
    "        dn_va=[]\n",
    "        for dn in dense_neurons:\n",
    "            cf_a=[]\n",
    "            cf_va=[]\n",
    "            for cf in conv_filters:\n",
    "                print ('Testing keep_probability: {:>2.2f},  dense_neurons: {:>4.0f},  conv_filters: {:3.0f}  |  '.format(kp, dn, cf), end='')\n",
    "                (ba, va) = test_net(epochs, kp, dn, cf, early_stop, n_batches,\n",
    "                                   create_conv_net=create_conv_net, conv_ksize=conv_ksize, conv_strides=conv_strides)\n",
    "                cf_a.append(ba)\n",
    "                cf_va.append(va)\n",
    "            dn_a.append(cf_a)\n",
    "            dn_va.append(cf_va)\n",
    "        kp_a.append(dn_a)\n",
    "        kp_va.append(dn_va)\n",
    "    return (kp_a, kp_va)\n",
    "\n",
    "    "
   ]
  },
  {
   "cell_type": "markdown",
   "metadata": {},
   "source": [
    "### Simplistic design\n",
    "To get some idea about optimal parameters I start with the simplistic network design: one Conv+pool, one dropot and one dense layer followed by output classifier. Then search the parameter's space of:\n",
    "```\n",
    "                                 keep_probability=(0.7, 0.8, 0.9, 1.0),\n",
    "                                 dense_neurons=(256,1024,2048,4096), \n",
    "                                 conv_filters=(16,32,64)\n",
    "```\n",
    "The convolution and pooling hyper parameters are arbitrary, 5x5 kernel without striding for convolution and 2x2 max pooling with 2x2 striding (BTW: it makes no practical meaning to implement different striding and kernel for the pooling layer).\n",
    "\n",
    "For the number of neurons in the hidden layer and number of convolution filtes the range is quite robust but since I got no clue for right direction I had to guess."
   ]
  },
  {
   "cell_type": "code",
   "execution_count": 18,
   "metadata": {
    "collapsed": true
   },
   "outputs": [],
   "source": [
    "def create_conv_net(x, keep_prob=1.0, dense_neurons=8196, conv_filters=128,\n",
    "                   conv_ksize=(5,5), conv_strides=(1,1)):\n",
    "    \"\"\"\n",
    "    Create a convolutional neural network model\n",
    "    : x: Placeholder tensor that holds image data.\n",
    "    : keep_prob: Placeholder tensor that hold dropout keep probability.\n",
    "    : return: Tensor that represents logits\n",
    "    \"\"\"\n",
    "    # conv2d_maxpool(x_tensor, conv_num_outputs, conv_ksize, conv_strides, pool_ksize, pool_strides)\n",
    "    # Input shape: 32x32x3=3072\n",
    "    layer=conv2d_maxpool(x, conv_filters, conv_ksize, conv_strides, (2,2), (2,2))\n",
    "    # Number of params: (5*5*3+1)*64 = 4864\n",
    "    # Out shape: 16*16*64=16384\n",
    "\n",
    "    layer=flatten(layer)\n",
    "    layer=tf.nn.dropout(layer, keep_prob)\n",
    "\n",
    "    # Out shape: 16*16*64=16384\n",
    "    layer=fully_conn(layer, dense_neurons)\n",
    "    # Number of params: (16384+1)*2048=33,556,480\n",
    "    # Out shape: 2048\n",
    "    \n",
    "    # Input shape: 2048\n",
    "    layer = output(layer, 10)\n",
    "    # Number of params: (2048+1)*10=20490\n",
    "    # Out shape: 10\n",
    "    return layer"
   ]
  },
  {
   "cell_type": "code",
   "execution_count": 823,
   "metadata": {},
   "outputs": [
    {
     "name": "stdout",
     "output_type": "stream",
     "text": [
      "Testing keep_probability: 0.70,  dense_neurons:  256,  conv_filters:  16  |  Max Val Acc: 21.30% | Early Stop Epoch: 5\n",
      "Testing keep_probability: 0.70,  dense_neurons:  256,  conv_filters:  32  |  Max Val Acc: 18.92% | Early Stop Epoch: 5\n",
      "Testing keep_probability: 0.70,  dense_neurons:  256,  conv_filters:  64  |  Max Val Acc: 18.56% | Early Stop Epoch: 5\n",
      "Testing keep_probability: 0.70,  dense_neurons: 1024,  conv_filters:  16  |  Max Val Acc: 22.18% | Early Stop Epoch: 5\n",
      "Testing keep_probability: 0.70,  dense_neurons: 1024,  conv_filters:  32  |  Max Val Acc: 27.52% | Early Stop Epoch: 5\n",
      "Testing keep_probability: 0.70,  dense_neurons: 1024,  conv_filters:  64  |  Max Val Acc: 32.46% | Early Stop Epoch: 5\n",
      "Testing keep_probability: 0.70,  dense_neurons: 2048,  conv_filters:  16  |  Max Val Acc: 27.34% | Early Stop Epoch: 5\n",
      "Testing keep_probability: 0.70,  dense_neurons: 2048,  conv_filters:  32  |  Max Val Acc: 32.94% | Early Stop Epoch: 5\n",
      "Testing keep_probability: 0.70,  dense_neurons: 2048,  conv_filters:  64  |  Max Val Acc: 39.00% | Early Stop Epoch: 7\n",
      "Testing keep_probability: 0.70,  dense_neurons: 4096,  conv_filters:  16  |  Max Val Acc: 27.82% | Early Stop Epoch: 5\n",
      "Testing keep_probability: 0.70,  dense_neurons: 4096,  conv_filters:  32  |  Max Val Acc: 34.78% | Early Stop Epoch: 5\n",
      "Testing keep_probability: 0.70,  dense_neurons: 4096,  conv_filters:  64  |  Max Val Acc: 37.90% | Early Stop Epoch: 5\n",
      "Testing keep_probability: 0.80,  dense_neurons:  256,  conv_filters:  16  |  Max Val Acc: 23.48% | Early Stop Epoch: 5\n",
      "Testing keep_probability: 0.80,  dense_neurons:  256,  conv_filters:  32  |  Max Val Acc: 20.92% | Early Stop Epoch: 5\n",
      "Testing keep_probability: 0.80,  dense_neurons:  256,  conv_filters:  64  |  Max Val Acc: 24.40% | Early Stop Epoch: 5\n",
      "Testing keep_probability: 0.80,  dense_neurons: 1024,  conv_filters:  16  |  Max Val Acc: 23.22% | Early Stop Epoch: 5\n",
      "Testing keep_probability: 0.80,  dense_neurons: 1024,  conv_filters:  32  |  Max Val Acc: 31.80% | Early Stop Epoch: 5\n",
      "Testing keep_probability: 0.80,  dense_neurons: 1024,  conv_filters:  64  |  Max Val Acc: 34.20% | Early Stop Epoch: 5\n",
      "Testing keep_probability: 0.80,  dense_neurons: 2048,  conv_filters:  16  |  Max Val Acc: 28.86% | Early Stop Epoch: 5\n",
      "Testing keep_probability: 0.80,  dense_neurons: 2048,  conv_filters:  32  |  Max Val Acc: 33.56% | Early Stop Epoch: 5\n",
      "Testing keep_probability: 0.80,  dense_neurons: 2048,  conv_filters:  64  |  Max Val Acc: 40.68% | Early Stop Epoch: 8\n",
      "Testing keep_probability: 0.80,  dense_neurons: 4096,  conv_filters:  16  |  Max Val Acc: 29.98% | Early Stop Epoch: 5\n",
      "Testing keep_probability: 0.80,  dense_neurons: 4096,  conv_filters:  32  |  Max Val Acc: 38.32% | Early Stop Epoch: 5\n",
      "Testing keep_probability: 0.80,  dense_neurons: 4096,  conv_filters:  64  |  Max Val Acc: 48.00% | Early Stop Epoch: 26\n",
      "Testing keep_probability: 0.90,  dense_neurons:  256,  conv_filters:  16  |  Max Val Acc: 24.52% | Early Stop Epoch: 5\n",
      "Testing keep_probability: 0.90,  dense_neurons:  256,  conv_filters:  32  |  Max Val Acc: 24.68% | Early Stop Epoch: 5\n",
      "Testing keep_probability: 0.90,  dense_neurons:  256,  conv_filters:  64  |  Max Val Acc: 27.68% | Early Stop Epoch: 5\n",
      "Testing keep_probability: 0.90,  dense_neurons: 1024,  conv_filters:  16  |  Max Val Acc: 28.52% | Early Stop Epoch: 5\n",
      "Testing keep_probability: 0.90,  dense_neurons: 1024,  conv_filters:  32  |  Max Val Acc: 33.54% | Early Stop Epoch: 5\n",
      "Testing keep_probability: 0.90,  dense_neurons: 1024,  conv_filters:  64  |  Max Val Acc: 39.32% | Early Stop Epoch: 5\n",
      "Testing keep_probability: 0.90,  dense_neurons: 2048,  conv_filters:  16  |  Max Val Acc: 31.60% | Early Stop Epoch: 5\n",
      "Testing keep_probability: 0.90,  dense_neurons: 2048,  conv_filters:  32  |  Max Val Acc: 36.92% | Early Stop Epoch: 5\n",
      "Testing keep_probability: 0.90,  dense_neurons: 2048,  conv_filters:  64  |  Max Val Acc: 50.56% | Early Stop Epoch: 24\n",
      "Testing keep_probability: 0.90,  dense_neurons: 4096,  conv_filters:  16  |  Max Val Acc: 36.86% | Early Stop Epoch: 5\n",
      "Testing keep_probability: 0.90,  dense_neurons: 4096,  conv_filters:  32  |  Max Val Acc: 45.62% | Early Stop Epoch: 22\n",
      "Testing keep_probability: 0.90,  dense_neurons: 4096,  conv_filters:  64  |  Max Val Acc: 51.44% | Early Stop Epoch: 17\n",
      "Testing keep_probability: 1.00,  dense_neurons:  256,  conv_filters:  16  |  Max Val Acc: 30.00% | Early Stop Epoch: 7\n",
      "Testing keep_probability: 1.00,  dense_neurons:  256,  conv_filters:  32  |  Max Val Acc: 39.76% | Early Stop Epoch: 10\n",
      "Testing keep_probability: 1.00,  dense_neurons:  256,  conv_filters:  64  |  Max Val Acc: 49.40% | Early Stop Epoch: 21\n",
      "Testing keep_probability: 1.00,  dense_neurons: 1024,  conv_filters:  16  |  Max Val Acc: 48.50% | Early Stop Epoch: 33\n",
      "Testing keep_probability: 1.00,  dense_neurons: 1024,  conv_filters:  32  |  Max Val Acc: 51.38% | Early Stop Epoch: 32\n",
      "Testing keep_probability: 1.00,  dense_neurons: 1024,  conv_filters:  64  |  Max Val Acc: 52.34% | Early Stop Epoch: 17\n",
      "Testing keep_probability: 1.00,  dense_neurons: 2048,  conv_filters:  16  |  Max Val Acc: 47.10% | Early Stop Epoch: 13\n",
      "Testing keep_probability: 1.00,  dense_neurons: 2048,  conv_filters:  32  |  Max Val Acc: 49.58% | Early Stop Epoch: 14\n",
      "Testing keep_probability: 1.00,  dense_neurons: 2048,  conv_filters:  64  |  Max Val Acc: 50.02% | Early Stop Epoch: 7\n",
      "Testing keep_probability: 1.00,  dense_neurons: 4096,  conv_filters:  16  |  Max Val Acc: 49.30% | Early Stop Epoch: 15\n",
      "Testing keep_probability: 1.00,  dense_neurons: 4096,  conv_filters:  32  |  Max Val Acc: 49.80% | Early Stop Epoch: 8\n",
      "Testing keep_probability: 1.00,  dense_neurons: 4096,  conv_filters:  64  |  Max Val Acc: 55.06% | Early Stop Epoch: 13\n",
      "CPU times: user 15min 20s, sys: 11min 1s, total: 26min 21s\n",
      "Wall time: 28min 8s\n"
     ]
    }
   ],
   "source": [
    "%%time\n",
    "keep_probability=(0.7, 0.8, 0.9, 1.0)\n",
    "dense_neurons=(256,1024,2048,4096)\n",
    "conv_filters=(16,32,64)\n",
    "batch_size = 256\n",
    "\n",
    "# (batch_accuracy,valid_accuracy) = find_optimal_hyperparameters(keep_probability=keep_probability, \n",
    "#                                                                dense_neurons=dense_neurons,\n",
    "#                                                                conv_filters=conv_filters)\n",
    "\n",
    "# with open(\"batch_accuracy-exp1.pickle\", 'wb') as f:\n",
    "#     pickle.dump(batch_accuracy, f, pickle.HIGHEST_PROTOCOL)\n",
    "# with open(\"valid_accuracy-exp1.pickle\", 'wb') as f:\n",
    "#     pickle.dump(valid_accuracy, f, pickle.HIGHEST_PROTOCOL)"
   ]
  },
  {
   "cell_type": "code",
   "execution_count": 18,
   "metadata": {
    "collapsed": true
   },
   "outputs": [],
   "source": [
    "with open(\"batch_accuracy-exp1.pickle\", 'rb') as f:\n",
    "    batch_accuracy=np.array(pickle.load(f))\n",
    "with open(\"valid_accuracy-exp1.pickle\", 'rb') as f:\n",
    "    valid_accuracy=np.array(pickle.load(f))\n",
    "keep_probability=(0.7, 0.8, 0.9, 1.0)\n",
    "dense_neurons=(256,1024,2048,4096)\n",
    "conv_filters=(16,32,64)\n",
    "batch_size = 256"
   ]
  },
  {
   "cell_type": "code",
   "execution_count": 19,
   "metadata": {},
   "outputs": [
    {
     "name": "stdout",
     "output_type": "stream",
     "text": [
      "Max Validation Accuracy index (3, 3, 2) | Maximum Accuracy: 55.06%\n"
     ]
    }
   ],
   "source": [
    "# construct the array of maximum validation accuracies\n",
    "max_valid_accuracy_array=np.array([[[max(cf) for cf in dn] for dn in kp] for kp in valid_accuracy])\n",
    "\n",
    "# FInd the index for maximum val acc\n",
    "mvaa_idx=np.unravel_index(np.argmax(max_valid_accuracy_array), max_valid_accuracy_array.shape)\n",
    "print (\"Max Validation Accuracy index {} \".format(mvaa_idx), end='')\n",
    "print(\"| Maximum Accuracy: {:2.2f}%\".format(100*max_valid_accuracy_array[mvaa_idx]))\n",
    "#print(max_valid_accuracy_array)\n"
   ]
  },
  {
   "cell_type": "code",
   "execution_count": 20,
   "metadata": {},
   "outputs": [
    {
     "data": {
      "text/html": [
       "<style  type=\"text/css\" >\n",
       "    #T_4f8c94fa_87c9_11e7_8dca_0242ac110008row2_col2 {\n",
       "            background-color:  yellow;\n",
       "        }    #T_4f8c94fa_87c9_11e7_8dca_0242ac110008row3_col0 {\n",
       "            background-color:  yellow;\n",
       "        }    #T_4f8c94fa_87c9_11e7_8dca_0242ac110008row3_col1 {\n",
       "            background-color:  yellow;\n",
       "        }</style>  \n",
       "<table id=\"T_4f8c94fa_87c9_11e7_8dca_0242ac110008\" > \n",
       "<thead>    <tr> \n",
       "        <th class=\"blank level0\" ></th> \n",
       "        <th class=\"col_heading level0 col0\" >16</th> \n",
       "        <th class=\"col_heading level0 col1\" >32</th> \n",
       "        <th class=\"col_heading level0 col2\" >64</th> \n",
       "    </tr></thead> \n",
       "<tbody>    <tr> \n",
       "        <th id=\"T_4f8c94fa_87c9_11e7_8dca_0242ac110008level0_row0\" class=\"row_heading level0 row0\" >256</th> \n",
       "        <td id=\"T_4f8c94fa_87c9_11e7_8dca_0242ac110008row0_col0\" class=\"data row0 col0\" >0.213</td> \n",
       "        <td id=\"T_4f8c94fa_87c9_11e7_8dca_0242ac110008row0_col1\" class=\"data row0 col1\" >0.1892</td> \n",
       "        <td id=\"T_4f8c94fa_87c9_11e7_8dca_0242ac110008row0_col2\" class=\"data row0 col2\" >0.1856</td> \n",
       "    </tr>    <tr> \n",
       "        <th id=\"T_4f8c94fa_87c9_11e7_8dca_0242ac110008level0_row1\" class=\"row_heading level0 row1\" >1024</th> \n",
       "        <td id=\"T_4f8c94fa_87c9_11e7_8dca_0242ac110008row1_col0\" class=\"data row1 col0\" >0.2218</td> \n",
       "        <td id=\"T_4f8c94fa_87c9_11e7_8dca_0242ac110008row1_col1\" class=\"data row1 col1\" >0.2752</td> \n",
       "        <td id=\"T_4f8c94fa_87c9_11e7_8dca_0242ac110008row1_col2\" class=\"data row1 col2\" >0.3246</td> \n",
       "    </tr>    <tr> \n",
       "        <th id=\"T_4f8c94fa_87c9_11e7_8dca_0242ac110008level0_row2\" class=\"row_heading level0 row2\" >2048</th> \n",
       "        <td id=\"T_4f8c94fa_87c9_11e7_8dca_0242ac110008row2_col0\" class=\"data row2 col0\" >0.2734</td> \n",
       "        <td id=\"T_4f8c94fa_87c9_11e7_8dca_0242ac110008row2_col1\" class=\"data row2 col1\" >0.3294</td> \n",
       "        <td id=\"T_4f8c94fa_87c9_11e7_8dca_0242ac110008row2_col2\" class=\"data row2 col2\" >0.39</td> \n",
       "    </tr>    <tr> \n",
       "        <th id=\"T_4f8c94fa_87c9_11e7_8dca_0242ac110008level0_row3\" class=\"row_heading level0 row3\" >4096</th> \n",
       "        <td id=\"T_4f8c94fa_87c9_11e7_8dca_0242ac110008row3_col0\" class=\"data row3 col0\" >0.2782</td> \n",
       "        <td id=\"T_4f8c94fa_87c9_11e7_8dca_0242ac110008row3_col1\" class=\"data row3 col1\" >0.3478</td> \n",
       "        <td id=\"T_4f8c94fa_87c9_11e7_8dca_0242ac110008row3_col2\" class=\"data row3 col2\" >0.379</td> \n",
       "    </tr></tbody> \n",
       "</table> "
      ],
      "text/plain": [
       "<pandas.io.formats.style.Styler at 0x7fdb15473e10>"
      ]
     },
     "metadata": {},
     "output_type": "display_data"
    },
    {
     "name": "stdout",
     "output_type": "stream",
     "text": [
      "Keep probability 0.7%\n"
     ]
    },
    {
     "data": {
      "text/html": [
       "<style  type=\"text/css\" >\n",
       "    #T_4f8f396c_87c9_11e7_8dca_0242ac110008row3_col0 {\n",
       "            background-color:  yellow;\n",
       "        }    #T_4f8f396c_87c9_11e7_8dca_0242ac110008row3_col1 {\n",
       "            background-color:  yellow;\n",
       "        }    #T_4f8f396c_87c9_11e7_8dca_0242ac110008row3_col2 {\n",
       "            background-color:  yellow;\n",
       "        }</style>  \n",
       "<table id=\"T_4f8f396c_87c9_11e7_8dca_0242ac110008\" > \n",
       "<thead>    <tr> \n",
       "        <th class=\"blank level0\" ></th> \n",
       "        <th class=\"col_heading level0 col0\" >16</th> \n",
       "        <th class=\"col_heading level0 col1\" >32</th> \n",
       "        <th class=\"col_heading level0 col2\" >64</th> \n",
       "    </tr></thead> \n",
       "<tbody>    <tr> \n",
       "        <th id=\"T_4f8f396c_87c9_11e7_8dca_0242ac110008level0_row0\" class=\"row_heading level0 row0\" >256</th> \n",
       "        <td id=\"T_4f8f396c_87c9_11e7_8dca_0242ac110008row0_col0\" class=\"data row0 col0\" >0.2348</td> \n",
       "        <td id=\"T_4f8f396c_87c9_11e7_8dca_0242ac110008row0_col1\" class=\"data row0 col1\" >0.2092</td> \n",
       "        <td id=\"T_4f8f396c_87c9_11e7_8dca_0242ac110008row0_col2\" class=\"data row0 col2\" >0.244</td> \n",
       "    </tr>    <tr> \n",
       "        <th id=\"T_4f8f396c_87c9_11e7_8dca_0242ac110008level0_row1\" class=\"row_heading level0 row1\" >1024</th> \n",
       "        <td id=\"T_4f8f396c_87c9_11e7_8dca_0242ac110008row1_col0\" class=\"data row1 col0\" >0.2322</td> \n",
       "        <td id=\"T_4f8f396c_87c9_11e7_8dca_0242ac110008row1_col1\" class=\"data row1 col1\" >0.318</td> \n",
       "        <td id=\"T_4f8f396c_87c9_11e7_8dca_0242ac110008row1_col2\" class=\"data row1 col2\" >0.342</td> \n",
       "    </tr>    <tr> \n",
       "        <th id=\"T_4f8f396c_87c9_11e7_8dca_0242ac110008level0_row2\" class=\"row_heading level0 row2\" >2048</th> \n",
       "        <td id=\"T_4f8f396c_87c9_11e7_8dca_0242ac110008row2_col0\" class=\"data row2 col0\" >0.2886</td> \n",
       "        <td id=\"T_4f8f396c_87c9_11e7_8dca_0242ac110008row2_col1\" class=\"data row2 col1\" >0.3356</td> \n",
       "        <td id=\"T_4f8f396c_87c9_11e7_8dca_0242ac110008row2_col2\" class=\"data row2 col2\" >0.4068</td> \n",
       "    </tr>    <tr> \n",
       "        <th id=\"T_4f8f396c_87c9_11e7_8dca_0242ac110008level0_row3\" class=\"row_heading level0 row3\" >4096</th> \n",
       "        <td id=\"T_4f8f396c_87c9_11e7_8dca_0242ac110008row3_col0\" class=\"data row3 col0\" >0.2998</td> \n",
       "        <td id=\"T_4f8f396c_87c9_11e7_8dca_0242ac110008row3_col1\" class=\"data row3 col1\" >0.3832</td> \n",
       "        <td id=\"T_4f8f396c_87c9_11e7_8dca_0242ac110008row3_col2\" class=\"data row3 col2\" >0.48</td> \n",
       "    </tr></tbody> \n",
       "</table> "
      ],
      "text/plain": [
       "<pandas.io.formats.style.Styler at 0x7fdb15473cc0>"
      ]
     },
     "metadata": {},
     "output_type": "display_data"
    },
    {
     "name": "stdout",
     "output_type": "stream",
     "text": [
      "Keep probability 0.8%\n"
     ]
    },
    {
     "data": {
      "text/html": [
       "<style  type=\"text/css\" >\n",
       "    #T_4f91ca9c_87c9_11e7_8dca_0242ac110008row3_col0 {\n",
       "            background-color:  yellow;\n",
       "        }    #T_4f91ca9c_87c9_11e7_8dca_0242ac110008row3_col1 {\n",
       "            background-color:  yellow;\n",
       "        }    #T_4f91ca9c_87c9_11e7_8dca_0242ac110008row3_col2 {\n",
       "            background-color:  yellow;\n",
       "        }</style>  \n",
       "<table id=\"T_4f91ca9c_87c9_11e7_8dca_0242ac110008\" > \n",
       "<thead>    <tr> \n",
       "        <th class=\"blank level0\" ></th> \n",
       "        <th class=\"col_heading level0 col0\" >16</th> \n",
       "        <th class=\"col_heading level0 col1\" >32</th> \n",
       "        <th class=\"col_heading level0 col2\" >64</th> \n",
       "    </tr></thead> \n",
       "<tbody>    <tr> \n",
       "        <th id=\"T_4f91ca9c_87c9_11e7_8dca_0242ac110008level0_row0\" class=\"row_heading level0 row0\" >256</th> \n",
       "        <td id=\"T_4f91ca9c_87c9_11e7_8dca_0242ac110008row0_col0\" class=\"data row0 col0\" >0.2452</td> \n",
       "        <td id=\"T_4f91ca9c_87c9_11e7_8dca_0242ac110008row0_col1\" class=\"data row0 col1\" >0.2468</td> \n",
       "        <td id=\"T_4f91ca9c_87c9_11e7_8dca_0242ac110008row0_col2\" class=\"data row0 col2\" >0.2768</td> \n",
       "    </tr>    <tr> \n",
       "        <th id=\"T_4f91ca9c_87c9_11e7_8dca_0242ac110008level0_row1\" class=\"row_heading level0 row1\" >1024</th> \n",
       "        <td id=\"T_4f91ca9c_87c9_11e7_8dca_0242ac110008row1_col0\" class=\"data row1 col0\" >0.2852</td> \n",
       "        <td id=\"T_4f91ca9c_87c9_11e7_8dca_0242ac110008row1_col1\" class=\"data row1 col1\" >0.3354</td> \n",
       "        <td id=\"T_4f91ca9c_87c9_11e7_8dca_0242ac110008row1_col2\" class=\"data row1 col2\" >0.3932</td> \n",
       "    </tr>    <tr> \n",
       "        <th id=\"T_4f91ca9c_87c9_11e7_8dca_0242ac110008level0_row2\" class=\"row_heading level0 row2\" >2048</th> \n",
       "        <td id=\"T_4f91ca9c_87c9_11e7_8dca_0242ac110008row2_col0\" class=\"data row2 col0\" >0.316</td> \n",
       "        <td id=\"T_4f91ca9c_87c9_11e7_8dca_0242ac110008row2_col1\" class=\"data row2 col1\" >0.3692</td> \n",
       "        <td id=\"T_4f91ca9c_87c9_11e7_8dca_0242ac110008row2_col2\" class=\"data row2 col2\" >0.5056</td> \n",
       "    </tr>    <tr> \n",
       "        <th id=\"T_4f91ca9c_87c9_11e7_8dca_0242ac110008level0_row3\" class=\"row_heading level0 row3\" >4096</th> \n",
       "        <td id=\"T_4f91ca9c_87c9_11e7_8dca_0242ac110008row3_col0\" class=\"data row3 col0\" >0.3686</td> \n",
       "        <td id=\"T_4f91ca9c_87c9_11e7_8dca_0242ac110008row3_col1\" class=\"data row3 col1\" >0.4562</td> \n",
       "        <td id=\"T_4f91ca9c_87c9_11e7_8dca_0242ac110008row3_col2\" class=\"data row3 col2\" >0.5144</td> \n",
       "    </tr></tbody> \n",
       "</table> "
      ],
      "text/plain": [
       "<pandas.io.formats.style.Styler at 0x7fdb15473400>"
      ]
     },
     "metadata": {},
     "output_type": "display_data"
    },
    {
     "name": "stdout",
     "output_type": "stream",
     "text": [
      "Keep probability 0.9%\n"
     ]
    },
    {
     "data": {
      "text/html": [
       "<style  type=\"text/css\" >\n",
       "    #T_4f941f04_87c9_11e7_8dca_0242ac110008row1_col1 {\n",
       "            background-color:  yellow;\n",
       "        }    #T_4f941f04_87c9_11e7_8dca_0242ac110008row3_col0 {\n",
       "            background-color:  yellow;\n",
       "        }    #T_4f941f04_87c9_11e7_8dca_0242ac110008row3_col2 {\n",
       "            background-color:  yellow;\n",
       "        }</style>  \n",
       "<table id=\"T_4f941f04_87c9_11e7_8dca_0242ac110008\" > \n",
       "<thead>    <tr> \n",
       "        <th class=\"blank level0\" ></th> \n",
       "        <th class=\"col_heading level0 col0\" >16</th> \n",
       "        <th class=\"col_heading level0 col1\" >32</th> \n",
       "        <th class=\"col_heading level0 col2\" >64</th> \n",
       "    </tr></thead> \n",
       "<tbody>    <tr> \n",
       "        <th id=\"T_4f941f04_87c9_11e7_8dca_0242ac110008level0_row0\" class=\"row_heading level0 row0\" >256</th> \n",
       "        <td id=\"T_4f941f04_87c9_11e7_8dca_0242ac110008row0_col0\" class=\"data row0 col0\" >0.3</td> \n",
       "        <td id=\"T_4f941f04_87c9_11e7_8dca_0242ac110008row0_col1\" class=\"data row0 col1\" >0.3976</td> \n",
       "        <td id=\"T_4f941f04_87c9_11e7_8dca_0242ac110008row0_col2\" class=\"data row0 col2\" >0.494</td> \n",
       "    </tr>    <tr> \n",
       "        <th id=\"T_4f941f04_87c9_11e7_8dca_0242ac110008level0_row1\" class=\"row_heading level0 row1\" >1024</th> \n",
       "        <td id=\"T_4f941f04_87c9_11e7_8dca_0242ac110008row1_col0\" class=\"data row1 col0\" >0.485</td> \n",
       "        <td id=\"T_4f941f04_87c9_11e7_8dca_0242ac110008row1_col1\" class=\"data row1 col1\" >0.5138</td> \n",
       "        <td id=\"T_4f941f04_87c9_11e7_8dca_0242ac110008row1_col2\" class=\"data row1 col2\" >0.5234</td> \n",
       "    </tr>    <tr> \n",
       "        <th id=\"T_4f941f04_87c9_11e7_8dca_0242ac110008level0_row2\" class=\"row_heading level0 row2\" >2048</th> \n",
       "        <td id=\"T_4f941f04_87c9_11e7_8dca_0242ac110008row2_col0\" class=\"data row2 col0\" >0.471</td> \n",
       "        <td id=\"T_4f941f04_87c9_11e7_8dca_0242ac110008row2_col1\" class=\"data row2 col1\" >0.4958</td> \n",
       "        <td id=\"T_4f941f04_87c9_11e7_8dca_0242ac110008row2_col2\" class=\"data row2 col2\" >0.5002</td> \n",
       "    </tr>    <tr> \n",
       "        <th id=\"T_4f941f04_87c9_11e7_8dca_0242ac110008level0_row3\" class=\"row_heading level0 row3\" >4096</th> \n",
       "        <td id=\"T_4f941f04_87c9_11e7_8dca_0242ac110008row3_col0\" class=\"data row3 col0\" >0.493</td> \n",
       "        <td id=\"T_4f941f04_87c9_11e7_8dca_0242ac110008row3_col1\" class=\"data row3 col1\" >0.498</td> \n",
       "        <td id=\"T_4f941f04_87c9_11e7_8dca_0242ac110008row3_col2\" class=\"data row3 col2\" >0.5506</td> \n",
       "    </tr></tbody> \n",
       "</table> "
      ],
      "text/plain": [
       "<pandas.io.formats.style.Styler at 0x7fdb040e1550>"
      ]
     },
     "metadata": {},
     "output_type": "display_data"
    },
    {
     "name": "stdout",
     "output_type": "stream",
     "text": [
      "Keep probability 1.0%\n"
     ]
    },
    {
     "data": {
      "text/html": [
       "<style  type=\"text/css\" >\n",
       "    #T_4f965bde_87c9_11e7_8dca_0242ac110008row0_col0 {\n",
       "            background-color:  yellow;\n",
       "        }    #T_4f965bde_87c9_11e7_8dca_0242ac110008row1_col2 {\n",
       "            background-color:  yellow;\n",
       "        }    #T_4f965bde_87c9_11e7_8dca_0242ac110008row2_col2 {\n",
       "            background-color:  yellow;\n",
       "        }    #T_4f965bde_87c9_11e7_8dca_0242ac110008row3_col2 {\n",
       "            background-color:  yellow;\n",
       "        }</style>  \n",
       "<table id=\"T_4f965bde_87c9_11e7_8dca_0242ac110008\" > \n",
       "<thead>    <tr> \n",
       "        <th class=\"blank level0\" ></th> \n",
       "        <th class=\"col_heading level0 col0\" >16</th> \n",
       "        <th class=\"col_heading level0 col1\" >32</th> \n",
       "        <th class=\"col_heading level0 col2\" >64</th> \n",
       "    </tr></thead> \n",
       "<tbody>    <tr> \n",
       "        <th id=\"T_4f965bde_87c9_11e7_8dca_0242ac110008level0_row0\" class=\"row_heading level0 row0\" >256</th> \n",
       "        <td id=\"T_4f965bde_87c9_11e7_8dca_0242ac110008row0_col0\" class=\"data row0 col0\" >0.213</td> \n",
       "        <td id=\"T_4f965bde_87c9_11e7_8dca_0242ac110008row0_col1\" class=\"data row0 col1\" >0.1892</td> \n",
       "        <td id=\"T_4f965bde_87c9_11e7_8dca_0242ac110008row0_col2\" class=\"data row0 col2\" >0.1856</td> \n",
       "    </tr>    <tr> \n",
       "        <th id=\"T_4f965bde_87c9_11e7_8dca_0242ac110008level0_row1\" class=\"row_heading level0 row1\" >1024</th> \n",
       "        <td id=\"T_4f965bde_87c9_11e7_8dca_0242ac110008row1_col0\" class=\"data row1 col0\" >0.2218</td> \n",
       "        <td id=\"T_4f965bde_87c9_11e7_8dca_0242ac110008row1_col1\" class=\"data row1 col1\" >0.2752</td> \n",
       "        <td id=\"T_4f965bde_87c9_11e7_8dca_0242ac110008row1_col2\" class=\"data row1 col2\" >0.3246</td> \n",
       "    </tr>    <tr> \n",
       "        <th id=\"T_4f965bde_87c9_11e7_8dca_0242ac110008level0_row2\" class=\"row_heading level0 row2\" >2048</th> \n",
       "        <td id=\"T_4f965bde_87c9_11e7_8dca_0242ac110008row2_col0\" class=\"data row2 col0\" >0.2734</td> \n",
       "        <td id=\"T_4f965bde_87c9_11e7_8dca_0242ac110008row2_col1\" class=\"data row2 col1\" >0.3294</td> \n",
       "        <td id=\"T_4f965bde_87c9_11e7_8dca_0242ac110008row2_col2\" class=\"data row2 col2\" >0.39</td> \n",
       "    </tr>    <tr> \n",
       "        <th id=\"T_4f965bde_87c9_11e7_8dca_0242ac110008level0_row3\" class=\"row_heading level0 row3\" >4096</th> \n",
       "        <td id=\"T_4f965bde_87c9_11e7_8dca_0242ac110008row3_col0\" class=\"data row3 col0\" >0.2782</td> \n",
       "        <td id=\"T_4f965bde_87c9_11e7_8dca_0242ac110008row3_col1\" class=\"data row3 col1\" >0.3478</td> \n",
       "        <td id=\"T_4f965bde_87c9_11e7_8dca_0242ac110008row3_col2\" class=\"data row3 col2\" >0.379</td> \n",
       "    </tr></tbody> \n",
       "</table> "
      ],
      "text/plain": [
       "<pandas.io.formats.style.Styler at 0x7fdb15473048>"
      ]
     },
     "metadata": {},
     "output_type": "display_data"
    },
    {
     "name": "stdout",
     "output_type": "stream",
     "text": [
      "Keep probability 0.7%\n"
     ]
    },
    {
     "data": {
      "text/html": [
       "<style  type=\"text/css\" >\n",
       "    #T_4f985f4c_87c9_11e7_8dca_0242ac110008row0_col2 {\n",
       "            background-color:  yellow;\n",
       "        }    #T_4f985f4c_87c9_11e7_8dca_0242ac110008row1_col2 {\n",
       "            background-color:  yellow;\n",
       "        }    #T_4f985f4c_87c9_11e7_8dca_0242ac110008row2_col2 {\n",
       "            background-color:  yellow;\n",
       "        }    #T_4f985f4c_87c9_11e7_8dca_0242ac110008row3_col2 {\n",
       "            background-color:  yellow;\n",
       "        }</style>  \n",
       "<table id=\"T_4f985f4c_87c9_11e7_8dca_0242ac110008\" > \n",
       "<thead>    <tr> \n",
       "        <th class=\"blank level0\" ></th> \n",
       "        <th class=\"col_heading level0 col0\" >16</th> \n",
       "        <th class=\"col_heading level0 col1\" >32</th> \n",
       "        <th class=\"col_heading level0 col2\" >64</th> \n",
       "    </tr></thead> \n",
       "<tbody>    <tr> \n",
       "        <th id=\"T_4f985f4c_87c9_11e7_8dca_0242ac110008level0_row0\" class=\"row_heading level0 row0\" >256</th> \n",
       "        <td id=\"T_4f985f4c_87c9_11e7_8dca_0242ac110008row0_col0\" class=\"data row0 col0\" >0.2348</td> \n",
       "        <td id=\"T_4f985f4c_87c9_11e7_8dca_0242ac110008row0_col1\" class=\"data row0 col1\" >0.2092</td> \n",
       "        <td id=\"T_4f985f4c_87c9_11e7_8dca_0242ac110008row0_col2\" class=\"data row0 col2\" >0.244</td> \n",
       "    </tr>    <tr> \n",
       "        <th id=\"T_4f985f4c_87c9_11e7_8dca_0242ac110008level0_row1\" class=\"row_heading level0 row1\" >1024</th> \n",
       "        <td id=\"T_4f985f4c_87c9_11e7_8dca_0242ac110008row1_col0\" class=\"data row1 col0\" >0.2322</td> \n",
       "        <td id=\"T_4f985f4c_87c9_11e7_8dca_0242ac110008row1_col1\" class=\"data row1 col1\" >0.318</td> \n",
       "        <td id=\"T_4f985f4c_87c9_11e7_8dca_0242ac110008row1_col2\" class=\"data row1 col2\" >0.342</td> \n",
       "    </tr>    <tr> \n",
       "        <th id=\"T_4f985f4c_87c9_11e7_8dca_0242ac110008level0_row2\" class=\"row_heading level0 row2\" >2048</th> \n",
       "        <td id=\"T_4f985f4c_87c9_11e7_8dca_0242ac110008row2_col0\" class=\"data row2 col0\" >0.2886</td> \n",
       "        <td id=\"T_4f985f4c_87c9_11e7_8dca_0242ac110008row2_col1\" class=\"data row2 col1\" >0.3356</td> \n",
       "        <td id=\"T_4f985f4c_87c9_11e7_8dca_0242ac110008row2_col2\" class=\"data row2 col2\" >0.4068</td> \n",
       "    </tr>    <tr> \n",
       "        <th id=\"T_4f985f4c_87c9_11e7_8dca_0242ac110008level0_row3\" class=\"row_heading level0 row3\" >4096</th> \n",
       "        <td id=\"T_4f985f4c_87c9_11e7_8dca_0242ac110008row3_col0\" class=\"data row3 col0\" >0.2998</td> \n",
       "        <td id=\"T_4f985f4c_87c9_11e7_8dca_0242ac110008row3_col1\" class=\"data row3 col1\" >0.3832</td> \n",
       "        <td id=\"T_4f985f4c_87c9_11e7_8dca_0242ac110008row3_col2\" class=\"data row3 col2\" >0.48</td> \n",
       "    </tr></tbody> \n",
       "</table> "
      ],
      "text/plain": [
       "<pandas.io.formats.style.Styler at 0x7fdb15473518>"
      ]
     },
     "metadata": {},
     "output_type": "display_data"
    },
    {
     "name": "stdout",
     "output_type": "stream",
     "text": [
      "Keep probability 0.8%\n"
     ]
    },
    {
     "data": {
      "text/html": [
       "<style  type=\"text/css\" >\n",
       "    #T_4f9a6120_87c9_11e7_8dca_0242ac110008row0_col2 {\n",
       "            background-color:  yellow;\n",
       "        }    #T_4f9a6120_87c9_11e7_8dca_0242ac110008row1_col2 {\n",
       "            background-color:  yellow;\n",
       "        }    #T_4f9a6120_87c9_11e7_8dca_0242ac110008row2_col2 {\n",
       "            background-color:  yellow;\n",
       "        }    #T_4f9a6120_87c9_11e7_8dca_0242ac110008row3_col2 {\n",
       "            background-color:  yellow;\n",
       "        }</style>  \n",
       "<table id=\"T_4f9a6120_87c9_11e7_8dca_0242ac110008\" > \n",
       "<thead>    <tr> \n",
       "        <th class=\"blank level0\" ></th> \n",
       "        <th class=\"col_heading level0 col0\" >16</th> \n",
       "        <th class=\"col_heading level0 col1\" >32</th> \n",
       "        <th class=\"col_heading level0 col2\" >64</th> \n",
       "    </tr></thead> \n",
       "<tbody>    <tr> \n",
       "        <th id=\"T_4f9a6120_87c9_11e7_8dca_0242ac110008level0_row0\" class=\"row_heading level0 row0\" >256</th> \n",
       "        <td id=\"T_4f9a6120_87c9_11e7_8dca_0242ac110008row0_col0\" class=\"data row0 col0\" >0.2452</td> \n",
       "        <td id=\"T_4f9a6120_87c9_11e7_8dca_0242ac110008row0_col1\" class=\"data row0 col1\" >0.2468</td> \n",
       "        <td id=\"T_4f9a6120_87c9_11e7_8dca_0242ac110008row0_col2\" class=\"data row0 col2\" >0.2768</td> \n",
       "    </tr>    <tr> \n",
       "        <th id=\"T_4f9a6120_87c9_11e7_8dca_0242ac110008level0_row1\" class=\"row_heading level0 row1\" >1024</th> \n",
       "        <td id=\"T_4f9a6120_87c9_11e7_8dca_0242ac110008row1_col0\" class=\"data row1 col0\" >0.2852</td> \n",
       "        <td id=\"T_4f9a6120_87c9_11e7_8dca_0242ac110008row1_col1\" class=\"data row1 col1\" >0.3354</td> \n",
       "        <td id=\"T_4f9a6120_87c9_11e7_8dca_0242ac110008row1_col2\" class=\"data row1 col2\" >0.3932</td> \n",
       "    </tr>    <tr> \n",
       "        <th id=\"T_4f9a6120_87c9_11e7_8dca_0242ac110008level0_row2\" class=\"row_heading level0 row2\" >2048</th> \n",
       "        <td id=\"T_4f9a6120_87c9_11e7_8dca_0242ac110008row2_col0\" class=\"data row2 col0\" >0.316</td> \n",
       "        <td id=\"T_4f9a6120_87c9_11e7_8dca_0242ac110008row2_col1\" class=\"data row2 col1\" >0.3692</td> \n",
       "        <td id=\"T_4f9a6120_87c9_11e7_8dca_0242ac110008row2_col2\" class=\"data row2 col2\" >0.5056</td> \n",
       "    </tr>    <tr> \n",
       "        <th id=\"T_4f9a6120_87c9_11e7_8dca_0242ac110008level0_row3\" class=\"row_heading level0 row3\" >4096</th> \n",
       "        <td id=\"T_4f9a6120_87c9_11e7_8dca_0242ac110008row3_col0\" class=\"data row3 col0\" >0.3686</td> \n",
       "        <td id=\"T_4f9a6120_87c9_11e7_8dca_0242ac110008row3_col1\" class=\"data row3 col1\" >0.4562</td> \n",
       "        <td id=\"T_4f9a6120_87c9_11e7_8dca_0242ac110008row3_col2\" class=\"data row3 col2\" >0.5144</td> \n",
       "    </tr></tbody> \n",
       "</table> "
      ],
      "text/plain": [
       "<pandas.io.formats.style.Styler at 0x7fdb154736a0>"
      ]
     },
     "metadata": {},
     "output_type": "display_data"
    },
    {
     "name": "stdout",
     "output_type": "stream",
     "text": [
      "Keep probability 0.9%\n"
     ]
    },
    {
     "data": {
      "text/html": [
       "<style  type=\"text/css\" >\n",
       "    #T_4f9c53d6_87c9_11e7_8dca_0242ac110008row0_col2 {\n",
       "            background-color:  yellow;\n",
       "        }    #T_4f9c53d6_87c9_11e7_8dca_0242ac110008row1_col2 {\n",
       "            background-color:  yellow;\n",
       "        }    #T_4f9c53d6_87c9_11e7_8dca_0242ac110008row2_col2 {\n",
       "            background-color:  yellow;\n",
       "        }    #T_4f9c53d6_87c9_11e7_8dca_0242ac110008row3_col2 {\n",
       "            background-color:  yellow;\n",
       "        }</style>  \n",
       "<table id=\"T_4f9c53d6_87c9_11e7_8dca_0242ac110008\" > \n",
       "<thead>    <tr> \n",
       "        <th class=\"blank level0\" ></th> \n",
       "        <th class=\"col_heading level0 col0\" >16</th> \n",
       "        <th class=\"col_heading level0 col1\" >32</th> \n",
       "        <th class=\"col_heading level0 col2\" >64</th> \n",
       "    </tr></thead> \n",
       "<tbody>    <tr> \n",
       "        <th id=\"T_4f9c53d6_87c9_11e7_8dca_0242ac110008level0_row0\" class=\"row_heading level0 row0\" >256</th> \n",
       "        <td id=\"T_4f9c53d6_87c9_11e7_8dca_0242ac110008row0_col0\" class=\"data row0 col0\" >0.3</td> \n",
       "        <td id=\"T_4f9c53d6_87c9_11e7_8dca_0242ac110008row0_col1\" class=\"data row0 col1\" >0.3976</td> \n",
       "        <td id=\"T_4f9c53d6_87c9_11e7_8dca_0242ac110008row0_col2\" class=\"data row0 col2\" >0.494</td> \n",
       "    </tr>    <tr> \n",
       "        <th id=\"T_4f9c53d6_87c9_11e7_8dca_0242ac110008level0_row1\" class=\"row_heading level0 row1\" >1024</th> \n",
       "        <td id=\"T_4f9c53d6_87c9_11e7_8dca_0242ac110008row1_col0\" class=\"data row1 col0\" >0.485</td> \n",
       "        <td id=\"T_4f9c53d6_87c9_11e7_8dca_0242ac110008row1_col1\" class=\"data row1 col1\" >0.5138</td> \n",
       "        <td id=\"T_4f9c53d6_87c9_11e7_8dca_0242ac110008row1_col2\" class=\"data row1 col2\" >0.5234</td> \n",
       "    </tr>    <tr> \n",
       "        <th id=\"T_4f9c53d6_87c9_11e7_8dca_0242ac110008level0_row2\" class=\"row_heading level0 row2\" >2048</th> \n",
       "        <td id=\"T_4f9c53d6_87c9_11e7_8dca_0242ac110008row2_col0\" class=\"data row2 col0\" >0.471</td> \n",
       "        <td id=\"T_4f9c53d6_87c9_11e7_8dca_0242ac110008row2_col1\" class=\"data row2 col1\" >0.4958</td> \n",
       "        <td id=\"T_4f9c53d6_87c9_11e7_8dca_0242ac110008row2_col2\" class=\"data row2 col2\" >0.5002</td> \n",
       "    </tr>    <tr> \n",
       "        <th id=\"T_4f9c53d6_87c9_11e7_8dca_0242ac110008level0_row3\" class=\"row_heading level0 row3\" >4096</th> \n",
       "        <td id=\"T_4f9c53d6_87c9_11e7_8dca_0242ac110008row3_col0\" class=\"data row3 col0\" >0.493</td> \n",
       "        <td id=\"T_4f9c53d6_87c9_11e7_8dca_0242ac110008row3_col1\" class=\"data row3 col1\" >0.498</td> \n",
       "        <td id=\"T_4f9c53d6_87c9_11e7_8dca_0242ac110008row3_col2\" class=\"data row3 col2\" >0.5506</td> \n",
       "    </tr></tbody> \n",
       "</table> "
      ],
      "text/plain": [
       "<pandas.io.formats.style.Styler at 0x7fdae452c7b8>"
      ]
     },
     "metadata": {},
     "output_type": "display_data"
    },
    {
     "name": "stdout",
     "output_type": "stream",
     "text": [
      "Keep probability 1.0%\n"
     ]
    }
   ],
   "source": [
    "import pandas as pd\n",
    "from IPython.display import display\n",
    "\n",
    "i=0\n",
    "for kp in keep_probability:\n",
    "    minlosses_df=pd.DataFrame(max_valid_accuracy_array[i], columns=conv_filters, index=dense_neurons)\n",
    "    display(minlosses_df.style.highlight_max(axis=0))\n",
    "    print (\"Keep probability {}%\".format(kp))\n",
    "    i+=1\n",
    "i=0\n",
    "for kp in keep_probability:\n",
    "    minlosses_df=pd.DataFrame(max_valid_accuracy_array[i], columns=conv_filters, index=dense_neurons)\n",
    "    display(minlosses_df.style.highlight_max(axis=1))\n",
    "    print (\"Keep probability {}%\".format(kp))\n",
    "    i+=1"
   ]
  },
  {
   "cell_type": "markdown",
   "metadata": {},
   "source": [
    "It's clear that we get best results for bigger networks with more convolution filers and more neurons in hidden layers so we should investigate in this direction."
   ]
  },
  {
   "cell_type": "code",
   "execution_count": 14,
   "metadata": {},
   "outputs": [
    {
     "name": "stdout",
     "output_type": "stream",
     "text": [
      "Testing keep_probability: 0.80,  dense_neurons: 4096,  conv_filters:  64  |  Max Val Acc: 41.56% | Early Stop Epoch: 7\n",
      "Testing keep_probability: 0.80,  dense_neurons: 4096,  conv_filters:  80  |  Max Val Acc: 41.70% | Early Stop Epoch: 7\n",
      "Testing keep_probability: 0.80,  dense_neurons: 4096,  conv_filters:  96  |  Max Val Acc: 56.66% | Early Stop Epoch: 63\n",
      "Testing keep_probability: 0.80,  dense_neurons: 4096,  conv_filters: 128  |  Max Val Acc: 57.84% | Early Stop Epoch: 41\n",
      "Testing keep_probability: 0.80,  dense_neurons: 5120,  conv_filters:  64  |  Max Val Acc: 40.34% | Early Stop Epoch: 7\n",
      "Testing keep_probability: 0.80,  dense_neurons: 5120,  conv_filters:  80  |  Max Val Acc: 53.62% | Early Stop Epoch: 41\n",
      "Testing keep_probability: 0.80,  dense_neurons: 5120,  conv_filters:  96  |  Max Val Acc: 53.02% | Early Stop Epoch: 32\n",
      "Testing keep_probability: 0.80,  dense_neurons: 5120,  conv_filters: 128  |  Max Val Acc: 57.82% | Early Stop Epoch: 44\n",
      "Testing keep_probability: 0.80,  dense_neurons: 6144,  conv_filters:  64  |  Max Val Acc: 38.82% | Early Stop Epoch: 7\n",
      "Testing keep_probability: 0.80,  dense_neurons: 6144,  conv_filters:  80  |  Max Val Acc: 50.36% | Early Stop Epoch: 30\n",
      "Testing keep_probability: 0.80,  dense_neurons: 6144,  conv_filters:  96  |  Max Val Acc: 52.96% | Early Stop Epoch: 32\n",
      "Testing keep_probability: 0.80,  dense_neurons: 6144,  conv_filters: 128  |  Max Val Acc: 57.58% | Early Stop Epoch: 37\n",
      "Testing keep_probability: 0.80,  dense_neurons: 8192,  conv_filters:  64  |  Max Val Acc: 42.30% | Early Stop Epoch: 7\n",
      "Testing keep_probability: 0.80,  dense_neurons: 8192,  conv_filters:  80  |  Max Val Acc: 53.26% | Early Stop Epoch: 41\n",
      "Testing keep_probability: 0.80,  dense_neurons: 8192,  conv_filters:  96  |  Max Val Acc: 56.16% | Early Stop Epoch: 27\n",
      "Testing keep_probability: 0.80,  dense_neurons: 8192,  conv_filters: 128  |  Max Val Acc: 58.42% | Early Stop Epoch: 36\n",
      "Testing keep_probability: 1.00,  dense_neurons: 4096,  conv_filters:  64  |  Max Val Acc: 58.54% | Early Stop Epoch: 22\n",
      "Testing keep_probability: 1.00,  dense_neurons: 4096,  conv_filters:  80  |  Max Val Acc: 59.50% | Early Stop Epoch: 28\n",
      "Testing keep_probability: 1.00,  dense_neurons: 4096,  conv_filters:  96  |  Max Val Acc: 60.16% | Early Stop Epoch: 29\n",
      "Testing keep_probability: 1.00,  dense_neurons: 4096,  conv_filters: 128  |  Max Val Acc: 60.68% | Early Stop Epoch: 32\n",
      "Testing keep_probability: 1.00,  dense_neurons: 5120,  conv_filters:  64  |  Max Val Acc: 60.24% | Early Stop Epoch: 29\n",
      "Testing keep_probability: 1.00,  dense_neurons: 5120,  conv_filters:  80  |  Max Val Acc: 57.84% | Early Stop Epoch: 18\n",
      "Testing keep_probability: 1.00,  dense_neurons: 5120,  conv_filters:  96  |  Max Val Acc: 59.56% | Early Stop Epoch: 23\n",
      "Testing keep_probability: 1.00,  dense_neurons: 5120,  conv_filters: 128  |  Max Val Acc: 60.04% | Early Stop Epoch: 18\n",
      "Testing keep_probability: 1.00,  dense_neurons: 6144,  conv_filters:  64  |  Max Val Acc: 58.00% | Early Stop Epoch: 17\n",
      "Testing keep_probability: 1.00,  dense_neurons: 6144,  conv_filters:  80  |  Max Val Acc: 57.68% | Early Stop Epoch: 18\n",
      "Testing keep_probability: 1.00,  dense_neurons: 6144,  conv_filters:  96  |  Max Val Acc: 61.98% | Early Stop Epoch: 39\n",
      "Testing keep_probability: 1.00,  dense_neurons: 6144,  conv_filters: 128  |  Max Val Acc: 61.48% | Early Stop Epoch: 26\n",
      "Testing keep_probability: 1.00,  dense_neurons: 8192,  conv_filters:  64  |  Max Val Acc: 58.86% | Early Stop Epoch: 24\n",
      "Testing keep_probability: 1.00,  dense_neurons: 8192,  conv_filters:  80  |  Max Val Acc: 58.22% | Early Stop Epoch: 17\n",
      "Testing keep_probability: 1.00,  dense_neurons: 8192,  conv_filters:  96  |  Max Val Acc: 58.98% | Early Stop Epoch: 17\n",
      "Testing keep_probability: 1.00,  dense_neurons: 8192,  conv_filters: 128  |  Max Val Acc: 61.68% | Early Stop Epoch: 34\n"
     ]
    }
   ],
   "source": [
    "keep_probability=(0.8, 1.0)\n",
    "dense_neurons=(4096, 5120, 6144, 8192)\n",
    "conv_filters=(64, 80, 96, 128)\n",
    "batch_size = 128\n",
    "\n",
    "# (batch_accuracy,valid_accuracy) = find_optimal_hyperparameters(keep_probability=keep_probability, \n",
    "#                                                                dense_neurons=dense_neurons,\n",
    "#                                                                conv_filters=conv_filters,\n",
    "#                                                                early_stop=6\n",
    "#                                                               )\n",
    "\n",
    "# with open(\"batch_accuracy-exp2.pickle\", 'wb') as f:\n",
    "#     pickle.dump(batch_accuracy, f, pickle.HIGHEST_PROTOCOL)\n",
    "# with open(\"valid_accuracy-exp2.pickle\", 'wb') as f:\n",
    "#     pickle.dump(valid_accuracy, f, pickle.HIGHEST_PROTOCOL)"
   ]
  },
  {
   "cell_type": "code",
   "execution_count": null,
   "metadata": {
    "collapsed": true
   },
   "outputs": [],
   "source": [
    "with open(\"batch_accuracy-exp2.pickle\", 'rb') as f:\n",
    "    batch_accuracy=np.array(pickle.load(f))\n",
    "with open(\"valid_accuracy-exp2.pickle\", 'rb') as f:\n",
    "    valid_accuracy=np.array(pickle.load(f))\n",
    "keep_probability=(0.8, 1.0)\n",
    "dense_neurons=(4096, 5120, 6144, 8192)\n",
    "conv_filters=(64, 80, 96, 128)"
   ]
  },
  {
   "cell_type": "code",
   "execution_count": 15,
   "metadata": {},
   "outputs": [
    {
     "name": "stdout",
     "output_type": "stream",
     "text": [
      "Max Validation Accuracy index (1, 2, 2) | Maximum Accuracy: 61.98%\n"
     ]
    }
   ],
   "source": [
    "# construct the array of maximum validation accuracies\n",
    "max_valid_accuracy_array=np.array([[[max(cf) for cf in dn] for dn in kp] for kp in valid_accuracy])\n",
    "\n",
    "# FInd the index for maximum val acc\n",
    "mvaa_idx=np.unravel_index(np.argmax(max_valid_accuracy_array), max_valid_accuracy_array.shape)\n",
    "print (\"Max Validation Accuracy index {} \".format(mvaa_idx), end='')\n",
    "print(\"| Maximum Accuracy: {:2.2f}%\".format(100*max_valid_accuracy_array[mvaa_idx]))\n",
    "#print(max_valid_accuracy_array)\n"
   ]
  },
  {
   "cell_type": "code",
   "execution_count": 17,
   "metadata": {},
   "outputs": [
    {
     "data": {
      "text/html": [
       "<style  type=\"text/css\" >\n",
       "    #T_31ce9dbe_87c9_11e7_8dca_0242ac110008row0_col2 {\n",
       "            background-color:  yellow;\n",
       "        }    #T_31ce9dbe_87c9_11e7_8dca_0242ac110008row1_col1 {\n",
       "            background-color:  yellow;\n",
       "        }    #T_31ce9dbe_87c9_11e7_8dca_0242ac110008row3_col0 {\n",
       "            background-color:  yellow;\n",
       "        }    #T_31ce9dbe_87c9_11e7_8dca_0242ac110008row3_col3 {\n",
       "            background-color:  yellow;\n",
       "        }</style>  \n",
       "<table id=\"T_31ce9dbe_87c9_11e7_8dca_0242ac110008\" > \n",
       "<thead>    <tr> \n",
       "        <th class=\"blank level0\" ></th> \n",
       "        <th class=\"col_heading level0 col0\" >64</th> \n",
       "        <th class=\"col_heading level0 col1\" >80</th> \n",
       "        <th class=\"col_heading level0 col2\" >96</th> \n",
       "        <th class=\"col_heading level0 col3\" >128</th> \n",
       "    </tr></thead> \n",
       "<tbody>    <tr> \n",
       "        <th id=\"T_31ce9dbe_87c9_11e7_8dca_0242ac110008level0_row0\" class=\"row_heading level0 row0\" >4096</th> \n",
       "        <td id=\"T_31ce9dbe_87c9_11e7_8dca_0242ac110008row0_col0\" class=\"data row0 col0\" >0.4156</td> \n",
       "        <td id=\"T_31ce9dbe_87c9_11e7_8dca_0242ac110008row0_col1\" class=\"data row0 col1\" >0.417</td> \n",
       "        <td id=\"T_31ce9dbe_87c9_11e7_8dca_0242ac110008row0_col2\" class=\"data row0 col2\" >0.5666</td> \n",
       "        <td id=\"T_31ce9dbe_87c9_11e7_8dca_0242ac110008row0_col3\" class=\"data row0 col3\" >0.5784</td> \n",
       "    </tr>    <tr> \n",
       "        <th id=\"T_31ce9dbe_87c9_11e7_8dca_0242ac110008level0_row1\" class=\"row_heading level0 row1\" >5120</th> \n",
       "        <td id=\"T_31ce9dbe_87c9_11e7_8dca_0242ac110008row1_col0\" class=\"data row1 col0\" >0.4034</td> \n",
       "        <td id=\"T_31ce9dbe_87c9_11e7_8dca_0242ac110008row1_col1\" class=\"data row1 col1\" >0.5362</td> \n",
       "        <td id=\"T_31ce9dbe_87c9_11e7_8dca_0242ac110008row1_col2\" class=\"data row1 col2\" >0.5302</td> \n",
       "        <td id=\"T_31ce9dbe_87c9_11e7_8dca_0242ac110008row1_col3\" class=\"data row1 col3\" >0.5782</td> \n",
       "    </tr>    <tr> \n",
       "        <th id=\"T_31ce9dbe_87c9_11e7_8dca_0242ac110008level0_row2\" class=\"row_heading level0 row2\" >6144</th> \n",
       "        <td id=\"T_31ce9dbe_87c9_11e7_8dca_0242ac110008row2_col0\" class=\"data row2 col0\" >0.3882</td> \n",
       "        <td id=\"T_31ce9dbe_87c9_11e7_8dca_0242ac110008row2_col1\" class=\"data row2 col1\" >0.5036</td> \n",
       "        <td id=\"T_31ce9dbe_87c9_11e7_8dca_0242ac110008row2_col2\" class=\"data row2 col2\" >0.5296</td> \n",
       "        <td id=\"T_31ce9dbe_87c9_11e7_8dca_0242ac110008row2_col3\" class=\"data row2 col3\" >0.5758</td> \n",
       "    </tr>    <tr> \n",
       "        <th id=\"T_31ce9dbe_87c9_11e7_8dca_0242ac110008level0_row3\" class=\"row_heading level0 row3\" >8192</th> \n",
       "        <td id=\"T_31ce9dbe_87c9_11e7_8dca_0242ac110008row3_col0\" class=\"data row3 col0\" >0.423</td> \n",
       "        <td id=\"T_31ce9dbe_87c9_11e7_8dca_0242ac110008row3_col1\" class=\"data row3 col1\" >0.5326</td> \n",
       "        <td id=\"T_31ce9dbe_87c9_11e7_8dca_0242ac110008row3_col2\" class=\"data row3 col2\" >0.5616</td> \n",
       "        <td id=\"T_31ce9dbe_87c9_11e7_8dca_0242ac110008row3_col3\" class=\"data row3 col3\" >0.5842</td> \n",
       "    </tr></tbody> \n",
       "</table> "
      ],
      "text/plain": [
       "<pandas.io.formats.style.Styler at 0x7fdae452c780>"
      ]
     },
     "metadata": {},
     "output_type": "display_data"
    },
    {
     "name": "stdout",
     "output_type": "stream",
     "text": [
      "Keep probability 0.8%\n"
     ]
    },
    {
     "data": {
      "text/html": [
       "<style  type=\"text/css\" >\n",
       "    #T_31d18cc2_87c9_11e7_8dca_0242ac110008row0_col1 {\n",
       "            background-color:  yellow;\n",
       "        }    #T_31d18cc2_87c9_11e7_8dca_0242ac110008row1_col0 {\n",
       "            background-color:  yellow;\n",
       "        }    #T_31d18cc2_87c9_11e7_8dca_0242ac110008row2_col2 {\n",
       "            background-color:  yellow;\n",
       "        }    #T_31d18cc2_87c9_11e7_8dca_0242ac110008row3_col3 {\n",
       "            background-color:  yellow;\n",
       "        }</style>  \n",
       "<table id=\"T_31d18cc2_87c9_11e7_8dca_0242ac110008\" > \n",
       "<thead>    <tr> \n",
       "        <th class=\"blank level0\" ></th> \n",
       "        <th class=\"col_heading level0 col0\" >64</th> \n",
       "        <th class=\"col_heading level0 col1\" >80</th> \n",
       "        <th class=\"col_heading level0 col2\" >96</th> \n",
       "        <th class=\"col_heading level0 col3\" >128</th> \n",
       "    </tr></thead> \n",
       "<tbody>    <tr> \n",
       "        <th id=\"T_31d18cc2_87c9_11e7_8dca_0242ac110008level0_row0\" class=\"row_heading level0 row0\" >4096</th> \n",
       "        <td id=\"T_31d18cc2_87c9_11e7_8dca_0242ac110008row0_col0\" class=\"data row0 col0\" >0.5854</td> \n",
       "        <td id=\"T_31d18cc2_87c9_11e7_8dca_0242ac110008row0_col1\" class=\"data row0 col1\" >0.595</td> \n",
       "        <td id=\"T_31d18cc2_87c9_11e7_8dca_0242ac110008row0_col2\" class=\"data row0 col2\" >0.6016</td> \n",
       "        <td id=\"T_31d18cc2_87c9_11e7_8dca_0242ac110008row0_col3\" class=\"data row0 col3\" >0.6068</td> \n",
       "    </tr>    <tr> \n",
       "        <th id=\"T_31d18cc2_87c9_11e7_8dca_0242ac110008level0_row1\" class=\"row_heading level0 row1\" >5120</th> \n",
       "        <td id=\"T_31d18cc2_87c9_11e7_8dca_0242ac110008row1_col0\" class=\"data row1 col0\" >0.6024</td> \n",
       "        <td id=\"T_31d18cc2_87c9_11e7_8dca_0242ac110008row1_col1\" class=\"data row1 col1\" >0.5784</td> \n",
       "        <td id=\"T_31d18cc2_87c9_11e7_8dca_0242ac110008row1_col2\" class=\"data row1 col2\" >0.5956</td> \n",
       "        <td id=\"T_31d18cc2_87c9_11e7_8dca_0242ac110008row1_col3\" class=\"data row1 col3\" >0.6004</td> \n",
       "    </tr>    <tr> \n",
       "        <th id=\"T_31d18cc2_87c9_11e7_8dca_0242ac110008level0_row2\" class=\"row_heading level0 row2\" >6144</th> \n",
       "        <td id=\"T_31d18cc2_87c9_11e7_8dca_0242ac110008row2_col0\" class=\"data row2 col0\" >0.58</td> \n",
       "        <td id=\"T_31d18cc2_87c9_11e7_8dca_0242ac110008row2_col1\" class=\"data row2 col1\" >0.5768</td> \n",
       "        <td id=\"T_31d18cc2_87c9_11e7_8dca_0242ac110008row2_col2\" class=\"data row2 col2\" >0.6198</td> \n",
       "        <td id=\"T_31d18cc2_87c9_11e7_8dca_0242ac110008row2_col3\" class=\"data row2 col3\" >0.6148</td> \n",
       "    </tr>    <tr> \n",
       "        <th id=\"T_31d18cc2_87c9_11e7_8dca_0242ac110008level0_row3\" class=\"row_heading level0 row3\" >8192</th> \n",
       "        <td id=\"T_31d18cc2_87c9_11e7_8dca_0242ac110008row3_col0\" class=\"data row3 col0\" >0.5886</td> \n",
       "        <td id=\"T_31d18cc2_87c9_11e7_8dca_0242ac110008row3_col1\" class=\"data row3 col1\" >0.5822</td> \n",
       "        <td id=\"T_31d18cc2_87c9_11e7_8dca_0242ac110008row3_col2\" class=\"data row3 col2\" >0.5898</td> \n",
       "        <td id=\"T_31d18cc2_87c9_11e7_8dca_0242ac110008row3_col3\" class=\"data row3 col3\" >0.6168</td> \n",
       "    </tr></tbody> \n",
       "</table> "
      ],
      "text/plain": [
       "<pandas.io.formats.style.Styler at 0x7fdae452c898>"
      ]
     },
     "metadata": {},
     "output_type": "display_data"
    },
    {
     "name": "stdout",
     "output_type": "stream",
     "text": [
      "Keep probability 1.0%\n"
     ]
    },
    {
     "data": {
      "text/html": [
       "<style  type=\"text/css\" >\n",
       "    #T_31d476bc_87c9_11e7_8dca_0242ac110008row0_col3 {\n",
       "            background-color:  yellow;\n",
       "        }    #T_31d476bc_87c9_11e7_8dca_0242ac110008row1_col3 {\n",
       "            background-color:  yellow;\n",
       "        }    #T_31d476bc_87c9_11e7_8dca_0242ac110008row2_col3 {\n",
       "            background-color:  yellow;\n",
       "        }    #T_31d476bc_87c9_11e7_8dca_0242ac110008row3_col3 {\n",
       "            background-color:  yellow;\n",
       "        }</style>  \n",
       "<table id=\"T_31d476bc_87c9_11e7_8dca_0242ac110008\" > \n",
       "<thead>    <tr> \n",
       "        <th class=\"blank level0\" ></th> \n",
       "        <th class=\"col_heading level0 col0\" >64</th> \n",
       "        <th class=\"col_heading level0 col1\" >80</th> \n",
       "        <th class=\"col_heading level0 col2\" >96</th> \n",
       "        <th class=\"col_heading level0 col3\" >128</th> \n",
       "    </tr></thead> \n",
       "<tbody>    <tr> \n",
       "        <th id=\"T_31d476bc_87c9_11e7_8dca_0242ac110008level0_row0\" class=\"row_heading level0 row0\" >4096</th> \n",
       "        <td id=\"T_31d476bc_87c9_11e7_8dca_0242ac110008row0_col0\" class=\"data row0 col0\" >0.4156</td> \n",
       "        <td id=\"T_31d476bc_87c9_11e7_8dca_0242ac110008row0_col1\" class=\"data row0 col1\" >0.417</td> \n",
       "        <td id=\"T_31d476bc_87c9_11e7_8dca_0242ac110008row0_col2\" class=\"data row0 col2\" >0.5666</td> \n",
       "        <td id=\"T_31d476bc_87c9_11e7_8dca_0242ac110008row0_col3\" class=\"data row0 col3\" >0.5784</td> \n",
       "    </tr>    <tr> \n",
       "        <th id=\"T_31d476bc_87c9_11e7_8dca_0242ac110008level0_row1\" class=\"row_heading level0 row1\" >5120</th> \n",
       "        <td id=\"T_31d476bc_87c9_11e7_8dca_0242ac110008row1_col0\" class=\"data row1 col0\" >0.4034</td> \n",
       "        <td id=\"T_31d476bc_87c9_11e7_8dca_0242ac110008row1_col1\" class=\"data row1 col1\" >0.5362</td> \n",
       "        <td id=\"T_31d476bc_87c9_11e7_8dca_0242ac110008row1_col2\" class=\"data row1 col2\" >0.5302</td> \n",
       "        <td id=\"T_31d476bc_87c9_11e7_8dca_0242ac110008row1_col3\" class=\"data row1 col3\" >0.5782</td> \n",
       "    </tr>    <tr> \n",
       "        <th id=\"T_31d476bc_87c9_11e7_8dca_0242ac110008level0_row2\" class=\"row_heading level0 row2\" >6144</th> \n",
       "        <td id=\"T_31d476bc_87c9_11e7_8dca_0242ac110008row2_col0\" class=\"data row2 col0\" >0.3882</td> \n",
       "        <td id=\"T_31d476bc_87c9_11e7_8dca_0242ac110008row2_col1\" class=\"data row2 col1\" >0.5036</td> \n",
       "        <td id=\"T_31d476bc_87c9_11e7_8dca_0242ac110008row2_col2\" class=\"data row2 col2\" >0.5296</td> \n",
       "        <td id=\"T_31d476bc_87c9_11e7_8dca_0242ac110008row2_col3\" class=\"data row2 col3\" >0.5758</td> \n",
       "    </tr>    <tr> \n",
       "        <th id=\"T_31d476bc_87c9_11e7_8dca_0242ac110008level0_row3\" class=\"row_heading level0 row3\" >8192</th> \n",
       "        <td id=\"T_31d476bc_87c9_11e7_8dca_0242ac110008row3_col0\" class=\"data row3 col0\" >0.423</td> \n",
       "        <td id=\"T_31d476bc_87c9_11e7_8dca_0242ac110008row3_col1\" class=\"data row3 col1\" >0.5326</td> \n",
       "        <td id=\"T_31d476bc_87c9_11e7_8dca_0242ac110008row3_col2\" class=\"data row3 col2\" >0.5616</td> \n",
       "        <td id=\"T_31d476bc_87c9_11e7_8dca_0242ac110008row3_col3\" class=\"data row3 col3\" >0.5842</td> \n",
       "    </tr></tbody> \n",
       "</table> "
      ],
      "text/plain": [
       "<pandas.io.formats.style.Styler at 0x7fdb15473a90>"
      ]
     },
     "metadata": {},
     "output_type": "display_data"
    },
    {
     "name": "stdout",
     "output_type": "stream",
     "text": [
      "Keep probability 0.8%\n"
     ]
    },
    {
     "data": {
      "text/html": [
       "<style  type=\"text/css\" >\n",
       "    #T_31d7233a_87c9_11e7_8dca_0242ac110008row0_col3 {\n",
       "            background-color:  yellow;\n",
       "        }    #T_31d7233a_87c9_11e7_8dca_0242ac110008row1_col0 {\n",
       "            background-color:  yellow;\n",
       "        }    #T_31d7233a_87c9_11e7_8dca_0242ac110008row2_col2 {\n",
       "            background-color:  yellow;\n",
       "        }    #T_31d7233a_87c9_11e7_8dca_0242ac110008row3_col3 {\n",
       "            background-color:  yellow;\n",
       "        }</style>  \n",
       "<table id=\"T_31d7233a_87c9_11e7_8dca_0242ac110008\" > \n",
       "<thead>    <tr> \n",
       "        <th class=\"blank level0\" ></th> \n",
       "        <th class=\"col_heading level0 col0\" >64</th> \n",
       "        <th class=\"col_heading level0 col1\" >80</th> \n",
       "        <th class=\"col_heading level0 col2\" >96</th> \n",
       "        <th class=\"col_heading level0 col3\" >128</th> \n",
       "    </tr></thead> \n",
       "<tbody>    <tr> \n",
       "        <th id=\"T_31d7233a_87c9_11e7_8dca_0242ac110008level0_row0\" class=\"row_heading level0 row0\" >4096</th> \n",
       "        <td id=\"T_31d7233a_87c9_11e7_8dca_0242ac110008row0_col0\" class=\"data row0 col0\" >0.5854</td> \n",
       "        <td id=\"T_31d7233a_87c9_11e7_8dca_0242ac110008row0_col1\" class=\"data row0 col1\" >0.595</td> \n",
       "        <td id=\"T_31d7233a_87c9_11e7_8dca_0242ac110008row0_col2\" class=\"data row0 col2\" >0.6016</td> \n",
       "        <td id=\"T_31d7233a_87c9_11e7_8dca_0242ac110008row0_col3\" class=\"data row0 col3\" >0.6068</td> \n",
       "    </tr>    <tr> \n",
       "        <th id=\"T_31d7233a_87c9_11e7_8dca_0242ac110008level0_row1\" class=\"row_heading level0 row1\" >5120</th> \n",
       "        <td id=\"T_31d7233a_87c9_11e7_8dca_0242ac110008row1_col0\" class=\"data row1 col0\" >0.6024</td> \n",
       "        <td id=\"T_31d7233a_87c9_11e7_8dca_0242ac110008row1_col1\" class=\"data row1 col1\" >0.5784</td> \n",
       "        <td id=\"T_31d7233a_87c9_11e7_8dca_0242ac110008row1_col2\" class=\"data row1 col2\" >0.5956</td> \n",
       "        <td id=\"T_31d7233a_87c9_11e7_8dca_0242ac110008row1_col3\" class=\"data row1 col3\" >0.6004</td> \n",
       "    </tr>    <tr> \n",
       "        <th id=\"T_31d7233a_87c9_11e7_8dca_0242ac110008level0_row2\" class=\"row_heading level0 row2\" >6144</th> \n",
       "        <td id=\"T_31d7233a_87c9_11e7_8dca_0242ac110008row2_col0\" class=\"data row2 col0\" >0.58</td> \n",
       "        <td id=\"T_31d7233a_87c9_11e7_8dca_0242ac110008row2_col1\" class=\"data row2 col1\" >0.5768</td> \n",
       "        <td id=\"T_31d7233a_87c9_11e7_8dca_0242ac110008row2_col2\" class=\"data row2 col2\" >0.6198</td> \n",
       "        <td id=\"T_31d7233a_87c9_11e7_8dca_0242ac110008row2_col3\" class=\"data row2 col3\" >0.6148</td> \n",
       "    </tr>    <tr> \n",
       "        <th id=\"T_31d7233a_87c9_11e7_8dca_0242ac110008level0_row3\" class=\"row_heading level0 row3\" >8192</th> \n",
       "        <td id=\"T_31d7233a_87c9_11e7_8dca_0242ac110008row3_col0\" class=\"data row3 col0\" >0.5886</td> \n",
       "        <td id=\"T_31d7233a_87c9_11e7_8dca_0242ac110008row3_col1\" class=\"data row3 col1\" >0.5822</td> \n",
       "        <td id=\"T_31d7233a_87c9_11e7_8dca_0242ac110008row3_col2\" class=\"data row3 col2\" >0.5898</td> \n",
       "        <td id=\"T_31d7233a_87c9_11e7_8dca_0242ac110008row3_col3\" class=\"data row3 col3\" >0.6168</td> \n",
       "    </tr></tbody> \n",
       "</table> "
      ],
      "text/plain": [
       "<pandas.io.formats.style.Styler at 0x7fdaf47abd68>"
      ]
     },
     "metadata": {},
     "output_type": "display_data"
    },
    {
     "name": "stdout",
     "output_type": "stream",
     "text": [
      "Keep probability 1.0%\n"
     ]
    }
   ],
   "source": [
    "import pandas as pd\n",
    "from IPython.display import display\n",
    "\n",
    "i=0\n",
    "for kp in keep_probability:\n",
    "    minlosses_df=pd.DataFrame(max_valid_accuracy_array[i], columns=conv_filters, index=dense_neurons)\n",
    "    display(minlosses_df.style.highlight_max(axis=0))\n",
    "    print (\"Keep probability {}%\".format(kp))\n",
    "    i+=1\n",
    "i=0\n",
    "for kp in keep_probability:\n",
    "    minlosses_df=pd.DataFrame(max_valid_accuracy_array[i], columns=conv_filters, index=dense_neurons)\n",
    "    display(minlosses_df.style.highlight_max(axis=1))\n",
    "    print (\"Keep probability {}%\".format(kp))\n",
    "    i+=1"
   ]
  },
  {
   "cell_type": "markdown",
   "metadata": {},
   "source": [
    "The best results were obtained with the very big networks of 8196 nodes in dense layer and 128 convolution filters of 5x5 kernel.\n",
    "Regularization with dropout is makeing everything worse which would indicate that the model could be even bigger.\n",
    "\n",
    "Let's calculate the total number of parameters.\n",
    "\n",
    "```\n",
    "# Input shape: 32x32x3=3072\n",
    "layer=conv2d_maxpool(x, 128, (5,5), (1,1), (2,2), (2,2))\n",
    "# Number of params: (5*5*3+1)*128 = 9728\n",
    "# Out shape: 16*16*128=32768\n",
    "\n",
    "layer=flatten(layer)\n",
    "layer=tf.nn.dropout(layer, keep_prob)\n",
    "\n",
    "# Input shape: 32768\n",
    "layer=fully_conn(layer, 8192)\n",
    "# Number of params: (32768+1)*8196=268,443,648\n",
    "# Out shape: 8192\n",
    "\n",
    "# Input shape: 8192\n",
    "layer = output(layer, 10)\n",
    "# Number of params: (8192+1)*10=81,930\n",
    "# Out shape: 10\n",
    "```\n",
    "Total params: 268,535,306\n",
    "\n",
    "**Wow... a whooping 267 milion. **\n",
    "How about going bigger?\n",
    "\n",
    "How about bigger convolution kernels? "
   ]
  },
  {
   "cell_type": "code",
   "execution_count": 83,
   "metadata": {},
   "outputs": [
    {
     "name": "stdout",
     "output_type": "stream",
     "text": [
      "Testing keep_probability: 0.80,  dense_neurons: 4096,  conv_filters:  64  |  Max Val Acc: 28.12% | Early Stop Epoch: 5\n",
      "Testing keep_probability: 0.80,  dense_neurons: 4096,  conv_filters: 128  |  Max Val Acc: 31.25% | Early Stop Epoch: 5\n",
      "Testing keep_probability: 0.80,  dense_neurons: 8192,  conv_filters:  64  |  Max Val Acc: 31.64% | Early Stop Epoch: 5\n",
      "Testing keep_probability: 0.80,  dense_neurons: 8192,  conv_filters: 128  |  Max Val Acc: 30.86% | Early Stop Epoch: 5\n",
      "Testing keep_probability: 1.00,  dense_neurons: 4096,  conv_filters:  64  |  Max Val Acc: 46.09% | Early Stop Epoch: 10\n",
      "Testing keep_probability: 1.00,  dense_neurons: 4096,  conv_filters: 128  |  Max Val Acc: 46.09% | Early Stop Epoch: 10\n",
      "Testing keep_probability: 1.00,  dense_neurons: 8192,  conv_filters:  64  |  Max Val Acc: 46.09% | Early Stop Epoch: 10\n",
      "Testing keep_probability: 1.00,  dense_neurons: 8192,  conv_filters: 128  |  Max Val Acc: 47.66% | Early Stop Epoch: 16\n",
      "CPU times: user 11min 31s, sys: 12min 16s, total: 23min 47s\n",
      "Wall time: 36min 13s\n"
     ]
    }
   ],
   "source": [
    "%%time\n",
    "keep_probability=(0.8, 1.0)\n",
    "dense_neurons=(4096, 8192)\n",
    "conv_filters=(64, 128)\n",
    "conv_ksize=(32,32)\n",
    "batch_size = 256\n",
    "\n",
    "(batch_accuracy,valid_accuracy) = find_optimal_hyperparameters(keep_probability=keep_probability, \n",
    "                                                               dense_neurons=dense_neurons,\n",
    "                                                               conv_filters=conv_filters, conv_ksize=conv_ksize)"
   ]
  },
  {
   "cell_type": "markdown",
   "metadata": {},
   "source": [
    "It might not be the best investigation of a subject but it seems that wider kernels are not beneficial with current network design. \n",
    "\n",
    "What I'm really curious about now are deeper models...\n"
   ]
  },
  {
   "cell_type": "markdown",
   "metadata": {},
   "source": [
    "### Deeper networks\n",
    "Let's try a deeper model with 3 convolutions and two fully connected layers."
   ]
  },
  {
   "cell_type": "code",
   "execution_count": 105,
   "metadata": {
    "collapsed": true
   },
   "outputs": [],
   "source": [
    "def create_deep_conv_net(x, keep_prob=0.75, dense_neurons=(512,256), conv_filters=(48,96,192),\n",
    "                   conv_ksize=(3,3), conv_strides=(1,1)):\n",
    "    \"\"\"\n",
    "    Create a convolutional neural network model\n",
    "    : x: Placeholder tensor that holds image data.\n",
    "    : keep_prob: Placeholder tensor that hold dropout keep probability.\n",
    "    : return: Tensor that represents logits\n",
    "    \"\"\"\n",
    "    # conv2d_maxpool(x_tensor, conv_num_outputs, conv_ksize, conv_strides, pool_ksize, pool_strides)\n",
    "    \n",
    "    # Input shape: 32x32x3=3072\n",
    "    layer=conv2d_maxpool(x, conv_filters[0], conv_ksize, conv_strides, (1,1), (1,1))\n",
    "    # Number of params: (3*3*3+1)*48 = 1344\n",
    "    layer=tf.nn.dropout(layer, keep_prob)\n",
    "    # Out shape: 32*32*48=49152\n",
    "    layer=conv2d_maxpool(x, conv_filters[1], conv_ksize, conv_strides, (1,1), (1,1))\n",
    "    # Number of params: (3*3*48+1)*96 = 41568\n",
    "    layer=tf.nn.dropout(layer, keep_prob)\n",
    "    # Out shape: 32*32*96=98304\n",
    "    layer=conv2d_maxpool(x, conv_filters[2], conv_ksize, conv_strides, (2,2), (2,2))\n",
    "    # Number of params: (3*3*96+1)*192 = 16,6080\n",
    "    # Out shape: 16*16*192=49152\n",
    "\n",
    "    layer=flatten(layer)\n",
    "    layer=tf.nn.dropout(layer, keep_prob)\n",
    "\n",
    "    # In shape: 49152\n",
    "    layer=fully_conn(layer, dense_neurons[0])\n",
    "    # Number of params: (49152+1)*512 = 25,166,336\n",
    "    layer=tf.nn.dropout(layer, keep_prob)\n",
    "    # In shape: 512\n",
    "    layer=fully_conn(layer, dense_neurons[1])\n",
    "    # Number of params: (512+1)*256 = 131,328\n",
    "    layer=tf.nn.dropout(layer, keep_prob)\n",
    "    # Out shape: 256\n",
    "    \n",
    "    # Input shape: 256\n",
    "    layer = output(layer, 10)\n",
    "    # Number of params: (256+1)*10=2570\n",
    "    # Out shape: 10\n",
    "    return layer\n",
    "\n",
    "# Total number of parameters: 25,509,226"
   ]
  },
  {
   "cell_type": "markdown",
   "metadata": {},
   "source": [
    "Need to change a but the find_optimal_hyperparameters() function."
   ]
  },
  {
   "cell_type": "code",
   "execution_count": 117,
   "metadata": {
    "collapsed": true
   },
   "outputs": [],
   "source": [
    "# grid search parameters\n",
    "def find_optimal_hyperparameters(epochs=230, \n",
    "                                 keep_probability=(0.8),\n",
    "                                 dense_neurons=((512,256),), \n",
    "                                 conv_filters=((48,96,192),),\n",
    "                                 early_stop=4, n_batches=5,\n",
    "                                 create_conv_net=create_conv_net,\n",
    "                                 conv_ksize=(3,3), conv_strides=(1,1),\n",
    "                                ):\n",
    "    kp_a=[]\n",
    "    kp_va=[]\n",
    "    for kp in keep_probability:\n",
    "        dn_a=[]\n",
    "        dn_va=[]\n",
    "        for dn in dense_neurons:\n",
    "            cf_a=[]\n",
    "            cf_va=[]\n",
    "            for cf in conv_filters:\n",
    "                print ('Testing keep_prob.: {:>2.2f},  dense_neurons: {:>4.0f},{:>4.0f},  conv_filters: {:3.0f},{:3.0f},{:4.0f}  |  '.format(kp, *dn, *cf), end='')\n",
    "                (ba, va) = test_net(epochs, kp, dn, cf, early_stop, n_batches,\n",
    "                                   create_conv_net=create_conv_net, conv_ksize=conv_ksize, conv_strides=conv_strides)\n",
    "                cf_a.append(ba)\n",
    "                cf_va.append(va)\n",
    "            dn_a.append(cf_a)\n",
    "            dn_va.append(cf_va)\n",
    "        kp_a.append(dn_a)\n",
    "        kp_va.append(dn_va)\n",
    "    return (kp_a, kp_va)"
   ]
  },
  {
   "cell_type": "markdown",
   "metadata": {},
   "source": [
    "Let's search some parameters..."
   ]
  },
  {
   "cell_type": "code",
   "execution_count": 119,
   "metadata": {},
   "outputs": [
    {
     "name": "stdout",
     "output_type": "stream",
     "text": [
      "Testing keep_prob.: 0.80,  dense_neurons:  512, 256,  conv_filters:  48, 96, 192  |  Max Val Acc: 13.60% | Early Stop Epoch: 5\n",
      "Testing keep_prob.: 0.80,  dense_neurons:  512, 256,  conv_filters:  64,128, 256  |  Max Val Acc: 14.95% | Early Stop Epoch: 5\n",
      "Testing keep_prob.: 0.80,  dense_neurons: 1024, 512,  conv_filters:  48, 96, 192  |  Max Val Acc: 18.05% | Early Stop Epoch: 5\n",
      "Testing keep_prob.: 0.80,  dense_neurons: 1024, 512,  conv_filters:  64,128, 256  |  Max Val Acc: 17.85% | Early Stop Epoch: 6\n",
      "Testing keep_prob.: 1.00,  dense_neurons:  512, 256,  conv_filters:  48, 96, 192  |  Max Val Acc: 56.50% | Early Stop Epoch: 21\n",
      "Testing keep_prob.: 1.00,  dense_neurons:  512, 256,  conv_filters:  64,128, 256  |  Max Val Acc: 51.65% | Early Stop Epoch: 11\n",
      "Testing keep_prob.: 1.00,  dense_neurons: 1024, 512,  conv_filters:  48, 96, 192  |  Max Val Acc: 53.25% | Early Stop Epoch: 11\n",
      "Testing keep_prob.: 1.00,  dense_neurons: 1024, 512,  conv_filters:  64,128, 256  |  Max Val Acc: 53.20% | Early Stop Epoch: 14\n"
     ]
    }
   ],
   "source": [
    "keep_probability=(0.8, 1.0)\n",
    "dense_neurons=((512,256),(1024,512))\n",
    "conv_filters=((48,96,192),(64,128,256),)\n",
    "conv_ksize=((3,3))\n",
    "batch_size = 256\n",
    "valid_batch_size=2000\n",
    "\n",
    "# (batch_accuracy,valid_accuracy) = find_optimal_hyperparameters(keep_probability=keep_probability, \n",
    "#                                                                dense_neurons=dense_neurons,\n",
    "#                                                                conv_filters=conv_filters, conv_ksize=conv_ksize,\n",
    "#                                                               create_conv_net=create_deep_conv_net)\n",
    "# with open(\"batch_accuracy-exp3.pickle\", 'wb') as f:\n",
    "#     pickle.dump(batch_accuracy, f, pickle.HIGHEST_PROTOCOL)\n",
    "# with open(\"valid_accuracy-exp3.pickle\", 'wb') as f:\n",
    "#     pickle.dump(valid_accuracy, f, pickle.HIGHEST_PROTOCOL)"
   ]
  },
  {
   "cell_type": "code",
   "execution_count": 120,
   "metadata": {
    "collapsed": true
   },
   "outputs": [],
   "source": [
    "with open(\"batch_accuracy-exp3.pickle\", 'rb') as f:\n",
    "    batch_accuracy=np.array(pickle.load(f))\n",
    "with open(\"valid_accuracy-exp3.pickle\", 'rb') as f:\n",
    "    valid_accuracy=np.array(pickle.load(f))\n",
    "keep_probability=(0.8, 1.0)\n",
    "dense_neurons=((512,256),(1024,512))\n",
    "conv_filters=((48,96,192),(64,128,256),)\n",
    "conv_ksize=((3,3))\n",
    "batch_size = 256\n",
    "valid_batch_size=2000"
   ]
  },
  {
   "cell_type": "code",
   "execution_count": 121,
   "metadata": {},
   "outputs": [
    {
     "name": "stdout",
     "output_type": "stream",
     "text": [
      "Max Validation Accuracy index (1, 0, 0) | Maximum Accuracy: 56.50%\n"
     ]
    }
   ],
   "source": [
    "# construct the array of maximum validation accuracies\n",
    "max_valid_accuracy_array=np.array([[[max(cf) for cf in dn] for dn in kp] for kp in valid_accuracy])\n",
    "\n",
    "# FInd the index for maximum val acc\n",
    "mvaa_idx=np.unravel_index(np.argmax(max_valid_accuracy_array), max_valid_accuracy_array.shape)\n",
    "print (\"Max Validation Accuracy index {} \".format(mvaa_idx), end='')\n",
    "print(\"| Maximum Accuracy: {:2.2f}%\".format(100*max_valid_accuracy_array[mvaa_idx]))\n",
    "#print(max_valid_accuracy_array)\n"
   ]
  },
  {
   "cell_type": "code",
   "execution_count": 122,
   "metadata": {},
   "outputs": [
    {
     "data": {
      "text/html": [
       "<style  type=\"text/css\" >\n",
       "    #T_156f3440_8813_11e7_8dca_0242ac110008row1_col0 {\n",
       "            background-color:  yellow;\n",
       "        }    #T_156f3440_8813_11e7_8dca_0242ac110008row1_col1 {\n",
       "            background-color:  yellow;\n",
       "        }</style>  \n",
       "<table id=\"T_156f3440_8813_11e7_8dca_0242ac110008\" > \n",
       "<thead>    <tr> \n",
       "        <th class=\"blank level0\" ></th> \n",
       "        <th class=\"col_heading level0 col0\" >(48, 96, 192)</th> \n",
       "        <th class=\"col_heading level0 col1\" >(64, 128, 256)</th> \n",
       "    </tr></thead> \n",
       "<tbody>    <tr> \n",
       "        <th id=\"T_156f3440_8813_11e7_8dca_0242ac110008level0_row0\" class=\"row_heading level0 row0\" >(512, 256)</th> \n",
       "        <td id=\"T_156f3440_8813_11e7_8dca_0242ac110008row0_col0\" class=\"data row0 col0\" >0.136</td> \n",
       "        <td id=\"T_156f3440_8813_11e7_8dca_0242ac110008row0_col1\" class=\"data row0 col1\" >0.1495</td> \n",
       "    </tr>    <tr> \n",
       "        <th id=\"T_156f3440_8813_11e7_8dca_0242ac110008level0_row1\" class=\"row_heading level0 row1\" >(1024, 512)</th> \n",
       "        <td id=\"T_156f3440_8813_11e7_8dca_0242ac110008row1_col0\" class=\"data row1 col0\" >0.1805</td> \n",
       "        <td id=\"T_156f3440_8813_11e7_8dca_0242ac110008row1_col1\" class=\"data row1 col1\" >0.1785</td> \n",
       "    </tr></tbody> \n",
       "</table> "
      ],
      "text/plain": [
       "<pandas.io.formats.style.Styler at 0x7fdae41a9198>"
      ]
     },
     "metadata": {},
     "output_type": "display_data"
    },
    {
     "name": "stdout",
     "output_type": "stream",
     "text": [
      "Keep probability 0.8%\n"
     ]
    },
    {
     "data": {
      "text/html": [
       "<style  type=\"text/css\" >\n",
       "    #T_1571deac_8813_11e7_8dca_0242ac110008row0_col0 {\n",
       "            background-color:  yellow;\n",
       "        }    #T_1571deac_8813_11e7_8dca_0242ac110008row1_col1 {\n",
       "            background-color:  yellow;\n",
       "        }</style>  \n",
       "<table id=\"T_1571deac_8813_11e7_8dca_0242ac110008\" > \n",
       "<thead>    <tr> \n",
       "        <th class=\"blank level0\" ></th> \n",
       "        <th class=\"col_heading level0 col0\" >(48, 96, 192)</th> \n",
       "        <th class=\"col_heading level0 col1\" >(64, 128, 256)</th> \n",
       "    </tr></thead> \n",
       "<tbody>    <tr> \n",
       "        <th id=\"T_1571deac_8813_11e7_8dca_0242ac110008level0_row0\" class=\"row_heading level0 row0\" >(512, 256)</th> \n",
       "        <td id=\"T_1571deac_8813_11e7_8dca_0242ac110008row0_col0\" class=\"data row0 col0\" >0.565</td> \n",
       "        <td id=\"T_1571deac_8813_11e7_8dca_0242ac110008row0_col1\" class=\"data row0 col1\" >0.5165</td> \n",
       "    </tr>    <tr> \n",
       "        <th id=\"T_1571deac_8813_11e7_8dca_0242ac110008level0_row1\" class=\"row_heading level0 row1\" >(1024, 512)</th> \n",
       "        <td id=\"T_1571deac_8813_11e7_8dca_0242ac110008row1_col0\" class=\"data row1 col0\" >0.5325</td> \n",
       "        <td id=\"T_1571deac_8813_11e7_8dca_0242ac110008row1_col1\" class=\"data row1 col1\" >0.532</td> \n",
       "    </tr></tbody> \n",
       "</table> "
      ],
      "text/plain": [
       "<pandas.io.formats.style.Styler at 0x7fdac08e5da0>"
      ]
     },
     "metadata": {},
     "output_type": "display_data"
    },
    {
     "name": "stdout",
     "output_type": "stream",
     "text": [
      "Keep probability 1.0%\n"
     ]
    },
    {
     "data": {
      "text/html": [
       "<style  type=\"text/css\" >\n",
       "    #T_15745ccc_8813_11e7_8dca_0242ac110008row0_col1 {\n",
       "            background-color:  yellow;\n",
       "        }    #T_15745ccc_8813_11e7_8dca_0242ac110008row1_col0 {\n",
       "            background-color:  yellow;\n",
       "        }</style>  \n",
       "<table id=\"T_15745ccc_8813_11e7_8dca_0242ac110008\" > \n",
       "<thead>    <tr> \n",
       "        <th class=\"blank level0\" ></th> \n",
       "        <th class=\"col_heading level0 col0\" >(48, 96, 192)</th> \n",
       "        <th class=\"col_heading level0 col1\" >(64, 128, 256)</th> \n",
       "    </tr></thead> \n",
       "<tbody>    <tr> \n",
       "        <th id=\"T_15745ccc_8813_11e7_8dca_0242ac110008level0_row0\" class=\"row_heading level0 row0\" >(512, 256)</th> \n",
       "        <td id=\"T_15745ccc_8813_11e7_8dca_0242ac110008row0_col0\" class=\"data row0 col0\" >0.136</td> \n",
       "        <td id=\"T_15745ccc_8813_11e7_8dca_0242ac110008row0_col1\" class=\"data row0 col1\" >0.1495</td> \n",
       "    </tr>    <tr> \n",
       "        <th id=\"T_15745ccc_8813_11e7_8dca_0242ac110008level0_row1\" class=\"row_heading level0 row1\" >(1024, 512)</th> \n",
       "        <td id=\"T_15745ccc_8813_11e7_8dca_0242ac110008row1_col0\" class=\"data row1 col0\" >0.1805</td> \n",
       "        <td id=\"T_15745ccc_8813_11e7_8dca_0242ac110008row1_col1\" class=\"data row1 col1\" >0.1785</td> \n",
       "    </tr></tbody> \n",
       "</table> "
      ],
      "text/plain": [
       "<pandas.io.formats.style.Styler at 0x7fdac08dd3c8>"
      ]
     },
     "metadata": {},
     "output_type": "display_data"
    },
    {
     "name": "stdout",
     "output_type": "stream",
     "text": [
      "Keep probability 0.8%\n"
     ]
    },
    {
     "data": {
      "text/html": [
       "<style  type=\"text/css\" >\n",
       "    #T_1576aa54_8813_11e7_8dca_0242ac110008row0_col0 {\n",
       "            background-color:  yellow;\n",
       "        }    #T_1576aa54_8813_11e7_8dca_0242ac110008row1_col0 {\n",
       "            background-color:  yellow;\n",
       "        }</style>  \n",
       "<table id=\"T_1576aa54_8813_11e7_8dca_0242ac110008\" > \n",
       "<thead>    <tr> \n",
       "        <th class=\"blank level0\" ></th> \n",
       "        <th class=\"col_heading level0 col0\" >(48, 96, 192)</th> \n",
       "        <th class=\"col_heading level0 col1\" >(64, 128, 256)</th> \n",
       "    </tr></thead> \n",
       "<tbody>    <tr> \n",
       "        <th id=\"T_1576aa54_8813_11e7_8dca_0242ac110008level0_row0\" class=\"row_heading level0 row0\" >(512, 256)</th> \n",
       "        <td id=\"T_1576aa54_8813_11e7_8dca_0242ac110008row0_col0\" class=\"data row0 col0\" >0.565</td> \n",
       "        <td id=\"T_1576aa54_8813_11e7_8dca_0242ac110008row0_col1\" class=\"data row0 col1\" >0.5165</td> \n",
       "    </tr>    <tr> \n",
       "        <th id=\"T_1576aa54_8813_11e7_8dca_0242ac110008level0_row1\" class=\"row_heading level0 row1\" >(1024, 512)</th> \n",
       "        <td id=\"T_1576aa54_8813_11e7_8dca_0242ac110008row1_col0\" class=\"data row1 col0\" >0.5325</td> \n",
       "        <td id=\"T_1576aa54_8813_11e7_8dca_0242ac110008row1_col1\" class=\"data row1 col1\" >0.532</td> \n",
       "    </tr></tbody> \n",
       "</table> "
      ],
      "text/plain": [
       "<pandas.io.formats.style.Styler at 0x7fdac08dd9b0>"
      ]
     },
     "metadata": {},
     "output_type": "display_data"
    },
    {
     "name": "stdout",
     "output_type": "stream",
     "text": [
      "Keep probability 1.0%\n"
     ]
    }
   ],
   "source": [
    "import pandas as pd\n",
    "from IPython.display import display\n",
    "\n",
    "i=0\n",
    "for kp in keep_probability:\n",
    "    minlosses_df=pd.DataFrame(max_valid_accuracy_array[i], columns=conv_filters, index=dense_neurons)\n",
    "    display(minlosses_df.style.highlight_max(axis=0))\n",
    "    print (\"Keep probability {}%\".format(kp))\n",
    "    i+=1\n",
    "i=0\n",
    "for kp in keep_probability:\n",
    "    minlosses_df=pd.DataFrame(max_valid_accuracy_array[i], columns=conv_filters, index=dense_neurons)\n",
    "    display(minlosses_df.style.highlight_max(axis=1))\n",
    "    print (\"Keep probability {}%\".format(kp))\n",
    "    i+=1"
   ]
  },
  {
   "cell_type": "code",
   "execution_count": 124,
   "metadata": {},
   "outputs": [
    {
     "name": "stdout",
     "output_type": "stream",
     "text": [
      "Testing keep_prob.: 1.00,  dense_neurons:  256, 256,  conv_filters:  32, 48,  64  |  Max Val Acc: 49.40% | Early Stop Epoch: 20\n",
      "Testing keep_prob.: 1.00,  dense_neurons:  256, 256,  conv_filters:  48, 96, 192  |  Max Val Acc: 48.70% | Early Stop Epoch: 15\n",
      "Testing keep_prob.: 1.00,  dense_neurons:  256, 512,  conv_filters:  32, 48,  64  |  Max Val Acc: 45.25% | Early Stop Epoch: 16\n",
      "Testing keep_prob.: 1.00,  dense_neurons:  256, 512,  conv_filters:  48, 96, 192  |  Max Val Acc: 47.75% | Early Stop Epoch: 13\n"
     ]
    }
   ],
   "source": [
    "keep_probability=(1.0,)\n",
    "dense_neurons=((256,256),(256,512))\n",
    "conv_filters=((32,48,64),(48,96,192))\n",
    "conv_ksize=((3,3))\n",
    "batch_size = 256\n",
    "valid_batch_size=2000\n",
    "\n",
    "(batch_accuracy,valid_accuracy) = find_optimal_hyperparameters(keep_probability=keep_probability, \n",
    "                                                               dense_neurons=dense_neurons,\n",
    "                                                               conv_filters=conv_filters, conv_ksize=conv_ksize,\n",
    "                                                              create_conv_net=create_deep_conv_net)\n",
    "with open(\"batch_accuracy-exp4.pickle\", 'wb') as f:\n",
    "    pickle.dump(batch_accuracy, f, pickle.HIGHEST_PROTOCOL)\n",
    "with open(\"valid_accuracy-exp4.pickle\", 'wb') as f:\n",
    "    pickle.dump(valid_accuracy, f, pickle.HIGHEST_PROTOCOL)"
   ]
  },
  {
   "cell_type": "markdown",
   "metadata": {},
   "source": [
    "# Conclusion\n",
    "\n",
    "The best resuts were obtained with simple model with one convolution and one hidden fully connected layer. Similar results could be achieved with a 3 times Conv2D layer and two dense layers and an order of magnitude less parameters (25.5 milion vs 267 milion) however the trainign time in the later case was comparable. "
   ]
  },
  {
   "cell_type": "code",
   "execution_count": 19,
   "metadata": {
    "collapsed": true
   },
   "outputs": [],
   "source": [
    "# TODO: Tune Parameters\n",
    "epochs = 40\n",
    "batch_size = 256\n",
    "keep_probability = 1 #0.8 #0.7\n",
    "conv_net=create_conv_net"
   ]
  },
  {
   "cell_type": "markdown",
   "metadata": {},
   "source": [
    "### Train on a Single CIFAR-10 Batch\n",
    "Instead of training the neural network on all the CIFAR-10 batches of data, let's use a single batch. This should save time while you iterate on the model to get a better accuracy.  Once the final validation accuracy is 50% or greater, run the model on all the data in the next section."
   ]
  },
  {
   "cell_type": "code",
   "execution_count": null,
   "metadata": {
    "collapsed": true,
    "scrolled": false
   },
   "outputs": [],
   "source": [
    "\"\"\"\n",
    "DON'T MODIFY ANYTHING IN THIS CELL\n",
    "\"\"\"\n",
    "print('Checking the Training on a Single Batch...')\n",
    "with tf.Session() as sess:\n",
    "    # Initializing the variables\n",
    "    sess.run(tf.global_variables_initializer())\n",
    "    \n",
    "    # Training cycle\n",
    "    for epoch in range(epochs):\n",
    "        batch_i = 1\n",
    "        for batch_features, batch_labels in helper.load_preprocess_training_batch(batch_i, batch_size):\n",
    "            train_neural_network(sess, optimizer, keep_probability, batch_features, batch_labels)\n",
    "        print('Epoch {:>2}, CIFAR-10 Batch {}:  '.format(epoch + 1, batch_i), end='')\n",
    "        print_stats(sess, batch_features, batch_labels, cost, accuracy)"
   ]
  },
  {
   "cell_type": "markdown",
   "metadata": {},
   "source": [
    "### Fully Train the Model\n",
    "\n",
    "Now that you got a good accuracy with a single CIFAR-10 batch, try it with all five batches."
   ]
  },
  {
   "cell_type": "code",
   "execution_count": 20,
   "metadata": {
    "scrolled": false
   },
   "outputs": [
    {
     "name": "stdout",
     "output_type": "stream",
     "text": [
      "Training...\n",
      "Epoch  1, CIFAR-10 Batch 1:  Loss:  4078, Accuracy: 30.00%, | Valication Loss:  4448, Valication Accuracy: 27.64%\n",
      "Epoch  1, CIFAR-10 Batch 2:  Loss:  2375, Accuracy: 35.00%, | Valication Loss:  2975, Valication Accuracy: 27.82%\n",
      "Epoch  1, CIFAR-10 Batch 3:  Loss:  1235, Accuracy: 45.00%, | Valication Loss:  2691, Valication Accuracy: 31.28%\n",
      "Epoch  1, CIFAR-10 Batch 4:  Loss:  1719, Accuracy: 35.00%, | Valication Loss:  2358, Valication Accuracy: 32.82%\n",
      "Epoch  1, CIFAR-10 Batch 5:  Loss:  2711, Accuracy: 30.00%, | Valication Loss:  2820, Valication Accuracy: 32.90%\n",
      "Epoch  2, CIFAR-10 Batch 1:  Loss:   893, Accuracy: 62.50%, | Valication Loss:  1701, Valication Accuracy: 41.20%\n",
      "Epoch  2, CIFAR-10 Batch 2:  Loss:   723, Accuracy: 67.50%, | Valication Loss:  1552, Valication Accuracy: 42.04%\n",
      "Epoch  2, CIFAR-10 Batch 3:  Loss:   412, Accuracy: 67.50%, | Valication Loss:  1655, Valication Accuracy: 39.62%\n",
      "Epoch  2, CIFAR-10 Batch 4:  Loss:   698, Accuracy: 72.50%, | Valication Loss:  1764, Valication Accuracy: 39.20%\n",
      "Epoch  2, CIFAR-10 Batch 5:  Loss:   790, Accuracy: 55.00%, | Valication Loss:  1743, Valication Accuracy: 41.84%\n",
      "Epoch  3, CIFAR-10 Batch 1:  Loss:   377, Accuracy: 62.50%, | Valication Loss:  1330, Valication Accuracy: 46.52%\n",
      "Epoch  3, CIFAR-10 Batch 2:  Loss:   382, Accuracy: 72.50%, | Valication Loss:  1543, Valication Accuracy: 43.42%\n",
      "Epoch  3, CIFAR-10 Batch 3:  Loss:   211, Accuracy: 85.00%, | Valication Loss:  1448, Valication Accuracy: 44.30%\n",
      "Epoch  3, CIFAR-10 Batch 4:  Loss:   255, Accuracy: 80.00%, | Valication Loss:  1449, Valication Accuracy: 44.88%\n",
      "Epoch  3, CIFAR-10 Batch 5:  Loss:   279, Accuracy: 67.50%, | Valication Loss:  1654, Valication Accuracy: 40.40%\n",
      "Epoch  4, CIFAR-10 Batch 1:  Loss:   263, Accuracy: 85.00%, | Valication Loss:  1408, Valication Accuracy: 47.24%\n",
      "Epoch  4, CIFAR-10 Batch 2:  Loss:   280, Accuracy: 67.50%, | Valication Loss:  1669, Valication Accuracy: 40.94%\n",
      "Epoch  4, CIFAR-10 Batch 3:  Loss:    41, Accuracy: 85.00%, | Valication Loss:  1271, Valication Accuracy: 45.44%\n",
      "Epoch  4, CIFAR-10 Batch 4:  Loss:   280, Accuracy: 77.50%, | Valication Loss:  1346, Valication Accuracy: 46.90%\n",
      "Epoch  4, CIFAR-10 Batch 5:  Loss:   500, Accuracy: 57.50%, | Valication Loss:  1599, Valication Accuracy: 42.24%\n",
      "Epoch  5, CIFAR-10 Batch 1:  Loss:   330, Accuracy: 77.50%, | Valication Loss:  1255, Valication Accuracy: 49.72%\n",
      "Epoch  5, CIFAR-10 Batch 2:  Loss:   148, Accuracy: 87.50%, | Valication Loss:  1185, Valication Accuracy: 47.68%\n",
      "Epoch  5, CIFAR-10 Batch 3:  Loss:   234, Accuracy: 72.50%, | Valication Loss:  1238, Valication Accuracy: 47.48%\n",
      "Epoch  5, CIFAR-10 Batch 4:  Loss:   183, Accuracy: 80.00%, | Valication Loss:  1246, Valication Accuracy: 47.34%\n",
      "Epoch  5, CIFAR-10 Batch 5:  Loss:    41, Accuracy: 90.00%, | Valication Loss:  1079, Valication Accuracy: 48.56%\n",
      "Epoch  6, CIFAR-10 Batch 1:  Loss:    72, Accuracy: 80.00%, | Valication Loss:  1040, Valication Accuracy: 50.72%\n",
      "Epoch  6, CIFAR-10 Batch 2:  Loss:   127, Accuracy: 90.00%, | Valication Loss:  1177, Valication Accuracy: 47.94%\n",
      "Epoch  6, CIFAR-10 Batch 3:  Loss:   125, Accuracy: 82.50%, | Valication Loss:  1266, Valication Accuracy: 48.06%\n",
      "Epoch  6, CIFAR-10 Batch 4:  Loss:    84, Accuracy: 92.50%, | Valication Loss:  1135, Valication Accuracy: 49.92%\n",
      "Epoch  6, CIFAR-10 Batch 5:  Loss:    29, Accuracy: 95.00%, | Valication Loss:  1032, Valication Accuracy: 51.18%\n",
      "Epoch  7, CIFAR-10 Batch 1:  Loss:   223, Accuracy: 77.50%, | Valication Loss:  1328, Valication Accuracy: 46.70%\n",
      "Epoch  7, CIFAR-10 Batch 2:  Loss:    20, Accuracy: 92.50%, | Valication Loss:   980, Valication Accuracy: 50.86%\n",
      "Epoch  7, CIFAR-10 Batch 3:  Loss:    50, Accuracy: 92.50%, | Valication Loss:  1127, Valication Accuracy: 49.00%\n",
      "Epoch  7, CIFAR-10 Batch 4:  Loss:    73, Accuracy: 85.00%, | Valication Loss:  1075, Valication Accuracy: 50.30%\n",
      "Epoch  7, CIFAR-10 Batch 5:  Loss:    31, Accuracy: 87.50%, | Valication Loss:  1138, Valication Accuracy: 49.10%\n",
      "Epoch  8, CIFAR-10 Batch 1:  Loss:   157, Accuracy: 87.50%, | Valication Loss:  1229, Valication Accuracy: 49.12%\n",
      "Epoch  8, CIFAR-10 Batch 2:  Loss:    13, Accuracy: 92.50%, | Valication Loss:  1161, Valication Accuracy: 47.14%\n",
      "Epoch  8, CIFAR-10 Batch 3:  Loss:    20, Accuracy: 97.50%, | Valication Loss:  1049, Valication Accuracy: 51.58%\n",
      "Epoch  8, CIFAR-10 Batch 4:  Loss:    15, Accuracy: 97.50%, | Valication Loss:   975, Valication Accuracy: 51.86%\n",
      "Epoch  8, CIFAR-10 Batch 5:  Loss:    10, Accuracy: 95.00%, | Valication Loss:  1034, Valication Accuracy: 51.70%\n",
      "Epoch  9, CIFAR-10 Batch 1:  Loss:    31, Accuracy: 95.00%, | Valication Loss:  1050, Valication Accuracy: 51.58%\n",
      "Epoch  9, CIFAR-10 Batch 2:  Loss:     0, Accuracy: 100.00%, | Valication Loss:   994, Valication Accuracy: 50.98%\n",
      "Epoch  9, CIFAR-10 Batch 3:  Loss:     6, Accuracy: 97.50%, | Valication Loss:  1394, Valication Accuracy: 47.40%\n",
      "Epoch  9, CIFAR-10 Batch 4:  Loss:    52, Accuracy: 90.00%, | Valication Loss:  1074, Valication Accuracy: 49.32%\n",
      "Epoch  9, CIFAR-10 Batch 5:  Loss:    19, Accuracy: 95.00%, | Valication Loss:   947, Valication Accuracy: 51.88%\n",
      "Epoch 10, CIFAR-10 Batch 1:  Loss:    22, Accuracy: 95.00%, | Valication Loss:   974, Valication Accuracy: 54.76%\n",
      "Epoch 10, CIFAR-10 Batch 2:  Loss:     8, Accuracy: 97.50%, | Valication Loss:  1058, Valication Accuracy: 49.82%\n",
      "Epoch 10, CIFAR-10 Batch 3:  Loss:    25, Accuracy: 92.50%, | Valication Loss:  1145, Valication Accuracy: 48.12%\n",
      "Epoch 10, CIFAR-10 Batch 4:  Loss:     0, Accuracy: 97.50%, | Valication Loss:   967, Valication Accuracy: 51.92%\n",
      "Epoch 10, CIFAR-10 Batch 5:  Loss:    11, Accuracy: 95.00%, | Valication Loss:   924, Valication Accuracy: 52.68%\n",
      "Epoch 11, CIFAR-10 Batch 1:  Loss:     4, Accuracy: 95.00%, | Valication Loss:   899, Valication Accuracy: 54.58%\n",
      "Epoch 11, CIFAR-10 Batch 2:  Loss:     0, Accuracy: 97.50%, | Valication Loss:  1092, Valication Accuracy: 48.98%\n",
      "Epoch 11, CIFAR-10 Batch 3:  Loss:     0, Accuracy: 100.00%, | Valication Loss:   891, Valication Accuracy: 52.90%\n",
      "Epoch 11, CIFAR-10 Batch 4:  Loss:     0, Accuracy: 100.00%, | Valication Loss:   864, Valication Accuracy: 53.54%\n",
      "Epoch 11, CIFAR-10 Batch 5:  Loss:     0, Accuracy: 100.00%, | Valication Loss:   796, Valication Accuracy: 55.36%\n",
      "Epoch 12, CIFAR-10 Batch 1:  Loss:     3, Accuracy: 97.50%, | Valication Loss:   830, Valication Accuracy: 54.60%\n",
      "Epoch 12, CIFAR-10 Batch 2:  Loss:    15, Accuracy: 95.00%, | Valication Loss:   988, Valication Accuracy: 51.82%\n",
      "Epoch 12, CIFAR-10 Batch 3:  Loss:    16, Accuracy: 95.00%, | Valication Loss:   920, Valication Accuracy: 52.36%\n",
      "Epoch 12, CIFAR-10 Batch 4:  Loss:    15, Accuracy: 97.50%, | Valication Loss:   883, Valication Accuracy: 53.86%\n",
      "Epoch 12, CIFAR-10 Batch 5:  Loss:     9, Accuracy: 95.00%, | Valication Loss:   834, Valication Accuracy: 54.66%\n",
      "Epoch 13, CIFAR-10 Batch 1:  Loss:     0, Accuracy: 100.00%, | Valication Loss:   817, Valication Accuracy: 54.92%\n",
      "Epoch 13, CIFAR-10 Batch 2:  Loss:    28, Accuracy: 97.50%, | Valication Loss:   956, Valication Accuracy: 53.14%\n",
      "Epoch 13, CIFAR-10 Batch 3:  Loss:     6, Accuracy: 97.50%, | Valication Loss:   813, Valication Accuracy: 55.74%\n",
      "Epoch 13, CIFAR-10 Batch 4:  Loss:    20, Accuracy: 95.00%, | Valication Loss:  1022, Valication Accuracy: 50.40%\n",
      "Epoch 13, CIFAR-10 Batch 5:  Loss:     0, Accuracy: 100.00%, | Valication Loss:   845, Valication Accuracy: 54.70%\n",
      "Epoch 14, CIFAR-10 Batch 1:  Loss:     4, Accuracy: 97.50%, | Valication Loss:   834, Valication Accuracy: 55.20%\n",
      "Epoch 14, CIFAR-10 Batch 2:  Loss:     0, Accuracy: 100.00%, | Valication Loss:   914, Valication Accuracy: 52.10%\n",
      "Epoch 14, CIFAR-10 Batch 3:  Loss:    23, Accuracy: 92.50%, | Valication Loss:   871, Valication Accuracy: 53.26%\n",
      "Epoch 14, CIFAR-10 Batch 4:  Loss:     0, Accuracy: 100.00%, | Valication Loss:   942, Valication Accuracy: 52.64%\n",
      "Epoch 14, CIFAR-10 Batch 5:  Loss:    13, Accuracy: 95.00%, | Valication Loss:   849, Valication Accuracy: 54.88%\n",
      "Epoch 15, CIFAR-10 Batch 1:  Loss:     0, Accuracy: 100.00%, | Valication Loss:   963, Valication Accuracy: 50.58%\n",
      "Epoch 15, CIFAR-10 Batch 2:  Loss:     0, Accuracy: 100.00%, | Valication Loss:   878, Valication Accuracy: 52.26%\n"
     ]
    },
    {
     "name": "stdout",
     "output_type": "stream",
     "text": [
      "Epoch 15, CIFAR-10 Batch 3:  Loss:     0, Accuracy: 100.00%, | Valication Loss:   831, Valication Accuracy: 54.00%\n",
      "Epoch 15, CIFAR-10 Batch 4:  Loss:    20, Accuracy: 95.00%, | Valication Loss:   923, Valication Accuracy: 53.30%\n",
      "Epoch 15, CIFAR-10 Batch 5:  Loss:     0, Accuracy: 100.00%, | Valication Loss:   845, Valication Accuracy: 53.44%\n",
      "Epoch 16, CIFAR-10 Batch 1:  Loss:     2, Accuracy: 97.50%, | Valication Loss:   853, Valication Accuracy: 53.20%\n",
      "Epoch 16, CIFAR-10 Batch 2:  Loss:    11, Accuracy: 95.00%, | Valication Loss:   794, Valication Accuracy: 55.32%\n",
      "Epoch 16, CIFAR-10 Batch 3:  Loss:     6, Accuracy: 92.50%, | Valication Loss:   865, Valication Accuracy: 54.12%\n",
      "Epoch 16, CIFAR-10 Batch 4:  Loss:     4, Accuracy: 97.50%, | Valication Loss:  1026, Valication Accuracy: 50.36%\n",
      "Epoch 16, CIFAR-10 Batch 5:  Loss:     9, Accuracy: 92.50%, | Valication Loss:   962, Valication Accuracy: 50.90%\n",
      "Epoch 17, CIFAR-10 Batch 1:  Loss:     3, Accuracy: 97.50%, | Valication Loss:   771, Valication Accuracy: 56.94%\n",
      "Epoch 17, CIFAR-10 Batch 2:  Loss:     3, Accuracy: 97.50%, | Valication Loss:   751, Valication Accuracy: 56.52%\n",
      "Epoch 17, CIFAR-10 Batch 3:  Loss:    27, Accuracy: 92.50%, | Valication Loss:   833, Valication Accuracy: 55.50%\n",
      "Epoch 17, CIFAR-10 Batch 4:  Loss:     3, Accuracy: 97.50%, | Valication Loss:   853, Valication Accuracy: 54.26%\n",
      "Epoch 17, CIFAR-10 Batch 5:  Loss:    14, Accuracy: 97.50%, | Valication Loss:   829, Valication Accuracy: 53.56%\n",
      "Epoch 18, CIFAR-10 Batch 1:  Loss:     4, Accuracy: 97.50%, | Valication Loss:   831, Valication Accuracy: 56.56%\n",
      "Epoch 18, CIFAR-10 Batch 2:  Loss:     0, Accuracy: 100.00%, | Valication Loss:   751, Valication Accuracy: 56.00%\n",
      "Epoch 18, CIFAR-10 Batch 3:  Loss:     0, Accuracy: 100.00%, | Valication Loss:   812, Valication Accuracy: 54.88%\n",
      "Epoch 18, CIFAR-10 Batch 4:  Loss:     6, Accuracy: 97.50%, | Valication Loss:   725, Valication Accuracy: 57.64%\n",
      "Epoch 18, CIFAR-10 Batch 5:  Loss:     0, Accuracy: 97.50%, | Valication Loss:   810, Valication Accuracy: 55.10%\n",
      "Epoch 19, CIFAR-10 Batch 1:  Loss:     0, Accuracy: 100.00%, | Valication Loss:   737, Valication Accuracy: 57.76%\n",
      "Epoch 19, CIFAR-10 Batch 2:  Loss:    10, Accuracy: 95.00%, | Valication Loss:   821, Valication Accuracy: 54.66%\n",
      "Epoch 19, CIFAR-10 Batch 3:  Loss:    23, Accuracy: 95.00%, | Valication Loss:   877, Valication Accuracy: 53.72%\n",
      "Epoch 19, CIFAR-10 Batch 4:  Loss:     0, Accuracy: 100.00%, | Valication Loss:   786, Valication Accuracy: 54.88%\n",
      "Epoch 19, CIFAR-10 Batch 5:  Loss:     0, Accuracy: 100.00%, | Valication Loss:   756, Valication Accuracy: 57.76%\n",
      "Epoch 20, CIFAR-10 Batch 1:  Loss:     4, Accuracy: 97.50%, | Valication Loss:   853, Valication Accuracy: 55.78%\n",
      "Epoch 20, CIFAR-10 Batch 2:  Loss:    11, Accuracy: 95.00%, | Valication Loss:   933, Valication Accuracy: 52.54%\n",
      "Epoch 20, CIFAR-10 Batch 3:  Loss:     0, Accuracy: 100.00%, | Valication Loss:   746, Valication Accuracy: 56.36%\n",
      "Epoch 20, CIFAR-10 Batch 4:  Loss:    10, Accuracy: 97.50%, | Valication Loss:   895, Valication Accuracy: 53.28%\n",
      "Epoch 20, CIFAR-10 Batch 5:  Loss:     0, Accuracy: 100.00%, | Valication Loss:   755, Valication Accuracy: 57.00%\n",
      "Epoch 21, CIFAR-10 Batch 1:  Loss:     0, Accuracy: 100.00%, | Valication Loss:   741, Valication Accuracy: 57.48%\n",
      "Epoch 21, CIFAR-10 Batch 2:  Loss:     8, Accuracy: 95.00%, | Valication Loss:   789, Valication Accuracy: 56.12%\n",
      "Epoch 21, CIFAR-10 Batch 3:  Loss:     0, Accuracy: 100.00%, | Valication Loss:   769, Valication Accuracy: 55.52%\n",
      "Epoch 21, CIFAR-10 Batch 4:  Loss:     0, Accuracy: 100.00%, | Valication Loss:   772, Valication Accuracy: 56.60%\n",
      "Epoch 21, CIFAR-10 Batch 5:  Loss:     4, Accuracy: 97.50%, | Valication Loss:   785, Valication Accuracy: 56.54%\n",
      "Epoch 22, CIFAR-10 Batch 1:  Loss:     0, Accuracy: 100.00%, | Valication Loss:   729, Valication Accuracy: 58.82%\n",
      "Epoch 22, CIFAR-10 Batch 2:  Loss:    14, Accuracy: 97.50%, | Valication Loss:   836, Valication Accuracy: 55.20%\n",
      "Epoch 22, CIFAR-10 Batch 3:  Loss:     0, Accuracy: 100.00%, | Valication Loss:   753, Valication Accuracy: 57.00%\n",
      "Epoch 22, CIFAR-10 Batch 4:  Loss:     0, Accuracy: 100.00%, | Valication Loss:   892, Valication Accuracy: 54.46%\n",
      "Epoch 22, CIFAR-10 Batch 5:  Loss:     0, Accuracy: 100.00%, | Valication Loss:   722, Valication Accuracy: 57.80%\n",
      "Epoch 23, CIFAR-10 Batch 1:  Loss:     0, Accuracy: 100.00%, | Valication Loss:   725, Valication Accuracy: 58.66%\n",
      "Epoch 23, CIFAR-10 Batch 2:  Loss:     0, Accuracy: 100.00%, | Valication Loss:   812, Valication Accuracy: 55.76%\n",
      "Epoch 23, CIFAR-10 Batch 3:  Loss:     0, Accuracy: 100.00%, | Valication Loss:   859, Valication Accuracy: 54.68%\n",
      "Epoch 23, CIFAR-10 Batch 4:  Loss:    11, Accuracy: 92.50%, | Valication Loss:   829, Valication Accuracy: 56.64%\n",
      "Epoch 23, CIFAR-10 Batch 5:  Loss:     0, Accuracy: 100.00%, | Valication Loss:   701, Valication Accuracy: 58.80%\n",
      "Epoch 24, CIFAR-10 Batch 1:  Loss:     0, Accuracy: 100.00%, | Valication Loss:   743, Valication Accuracy: 57.76%\n",
      "Epoch 24, CIFAR-10 Batch 2:  Loss:     0, Accuracy: 100.00%, | Valication Loss:   756, Valication Accuracy: 57.76%\n",
      "Epoch 24, CIFAR-10 Batch 3:  Loss:    11, Accuracy: 95.00%, | Valication Loss:   901, Valication Accuracy: 53.50%\n",
      "Epoch 24, CIFAR-10 Batch 4:  Loss:     0, Accuracy: 100.00%, | Valication Loss:   755, Valication Accuracy: 57.90%\n",
      "Epoch 24, CIFAR-10 Batch 5:  Loss:     0, Accuracy: 100.00%, | Valication Loss:   760, Valication Accuracy: 55.96%\n",
      "Epoch 25, CIFAR-10 Batch 1:  Loss:     1, Accuracy: 97.50%, | Valication Loss:   793, Valication Accuracy: 56.22%\n",
      "Epoch 25, CIFAR-10 Batch 2:  Loss:     4, Accuracy: 97.50%, | Valication Loss:   751, Valication Accuracy: 56.34%\n",
      "Epoch 25, CIFAR-10 Batch 3:  Loss:     1, Accuracy: 97.50%, | Valication Loss:   839, Valication Accuracy: 54.32%\n",
      "Epoch 25, CIFAR-10 Batch 4:  Loss:     0, Accuracy: 100.00%, | Valication Loss:   801, Valication Accuracy: 55.92%\n",
      "Epoch 25, CIFAR-10 Batch 5:  Loss:     0, Accuracy: 100.00%, | Valication Loss:   735, Valication Accuracy: 57.02%\n",
      "Epoch 26, CIFAR-10 Batch 1:  Loss:     0, Accuracy: 100.00%, | Valication Loss:   856, Valication Accuracy: 54.38%\n",
      "Epoch 26, CIFAR-10 Batch 2:  Loss:     0, Accuracy: 100.00%, | Valication Loss:   726, Valication Accuracy: 57.48%\n",
      "Epoch 26, CIFAR-10 Batch 3:  Loss:     9, Accuracy: 97.50%, | Valication Loss:   842, Valication Accuracy: 55.42%\n",
      "Epoch 26, CIFAR-10 Batch 4:  Loss:     0, Accuracy: 100.00%, | Valication Loss:   712, Valication Accuracy: 58.60%\n",
      "Epoch 26, CIFAR-10 Batch 5:  Loss:     0, Accuracy: 100.00%, | Valication Loss:   838, Valication Accuracy: 55.80%\n",
      "Epoch 27, CIFAR-10 Batch 1:  Loss:     5, Accuracy: 97.50%, | Valication Loss:   826, Valication Accuracy: 55.80%\n",
      "Epoch 27, CIFAR-10 Batch 2:  Loss:     0, Accuracy: 100.00%, | Valication Loss:   711, Valication Accuracy: 57.62%\n",
      "Epoch 27, CIFAR-10 Batch 3:  Loss:     0, Accuracy: 100.00%, | Valication Loss:   772, Valication Accuracy: 56.20%\n",
      "Epoch 27, CIFAR-10 Batch 4:  Loss:     0, Accuracy: 100.00%, | Valication Loss:   675, Valication Accuracy: 59.60%\n",
      "Epoch 27, CIFAR-10 Batch 5:  Loss:     1, Accuracy: 97.50%, | Valication Loss:   935, Valication Accuracy: 56.84%\n",
      "Epoch 28, CIFAR-10 Batch 1:  Loss:     3, Accuracy: 97.50%, | Valication Loss:   851, Valication Accuracy: 54.90%\n",
      "Epoch 28, CIFAR-10 Batch 2:  Loss:     0, Accuracy: 100.00%, | Valication Loss:   729, Valication Accuracy: 56.56%\n",
      "Epoch 28, CIFAR-10 Batch 3:  Loss:     2, Accuracy: 97.50%, | Valication Loss:   844, Valication Accuracy: 54.30%\n",
      "Epoch 28, CIFAR-10 Batch 4:  Loss:     0, Accuracy: 100.00%, | Valication Loss:   768, Valication Accuracy: 57.92%\n",
      "Epoch 28, CIFAR-10 Batch 5:  Loss:    11, Accuracy: 97.50%, | Valication Loss:  1021, Valication Accuracy: 57.36%\n",
      "Epoch 29, CIFAR-10 Batch 1:  Loss:     0, Accuracy: 100.00%, | Valication Loss:   855, Valication Accuracy: 54.42%\n",
      "Epoch 29, CIFAR-10 Batch 2:  Loss:     0, Accuracy: 100.00%, | Valication Loss:   667, Valication Accuracy: 58.96%\n",
      "Epoch 29, CIFAR-10 Batch 3:  Loss:     0, Accuracy: 100.00%, | Valication Loss:   797, Valication Accuracy: 55.12%\n",
      "Epoch 29, CIFAR-10 Batch 4:  Loss:     0, Accuracy: 100.00%, | Valication Loss:   696, Valication Accuracy: 59.16%\n"
     ]
    },
    {
     "name": "stdout",
     "output_type": "stream",
     "text": [
      "Epoch 29, CIFAR-10 Batch 5:  Loss:     3, Accuracy: 97.50%, | Valication Loss:  1191, Valication Accuracy: 53.60%\n",
      "Epoch 30, CIFAR-10 Batch 1:  Loss:     0, Accuracy: 100.00%, | Valication Loss:   776, Valication Accuracy: 57.20%\n",
      "Epoch 30, CIFAR-10 Batch 2:  Loss:     4, Accuracy: 97.50%, | Valication Loss:   840, Valication Accuracy: 53.62%\n",
      "Epoch 30, CIFAR-10 Batch 3:  Loss:     0, Accuracy: 100.00%, | Valication Loss:   771, Valication Accuracy: 56.90%\n",
      "Epoch 30, CIFAR-10 Batch 4:  Loss:     0, Accuracy: 100.00%, | Valication Loss:   701, Valication Accuracy: 58.34%\n",
      "Epoch 30, CIFAR-10 Batch 5:  Loss:     0, Accuracy: 100.00%, | Valication Loss:   882, Valication Accuracy: 56.46%\n",
      "Epoch 31, CIFAR-10 Batch 1:  Loss:    15, Accuracy: 97.50%, | Valication Loss:   956, Valication Accuracy: 53.76%\n",
      "Epoch 31, CIFAR-10 Batch 2:  Loss:     0, Accuracy: 100.00%, | Valication Loss:   672, Valication Accuracy: 58.06%\n",
      "Epoch 31, CIFAR-10 Batch 3:  Loss:     9, Accuracy: 97.50%, | Valication Loss:   834, Valication Accuracy: 54.82%\n",
      "Epoch 31, CIFAR-10 Batch 4:  Loss:     0, Accuracy: 100.00%, | Valication Loss:   684, Valication Accuracy: 59.96%\n",
      "Epoch 31, CIFAR-10 Batch 5:  Loss:     0, Accuracy: 100.00%, | Valication Loss:   706, Valication Accuracy: 58.14%\n",
      "Epoch 32, CIFAR-10 Batch 1:  Loss:    10, Accuracy: 95.00%, | Valication Loss:   769, Valication Accuracy: 57.36%\n",
      "Epoch 32, CIFAR-10 Batch 2:  Loss:     3, Accuracy: 97.50%, | Valication Loss:   816, Valication Accuracy: 55.80%\n",
      "Epoch 32, CIFAR-10 Batch 3:  Loss:     0, Accuracy: 100.00%, | Valication Loss:   696, Valication Accuracy: 59.70%\n",
      "Epoch 32, CIFAR-10 Batch 4:  Loss:     0, Accuracy: 100.00%, | Valication Loss:   686, Valication Accuracy: 58.88%\n",
      "Epoch 32, CIFAR-10 Batch 5:  Loss:     0, Accuracy: 100.00%, | Valication Loss:   678, Valication Accuracy: 58.22%\n",
      "Epoch 33, CIFAR-10 Batch 1:  Loss:     0, Accuracy: 100.00%, | Valication Loss:   706, Valication Accuracy: 58.10%\n",
      "Epoch 33, CIFAR-10 Batch 2:  Loss:     0, Accuracy: 100.00%, | Valication Loss:   686, Valication Accuracy: 58.88%\n",
      "Epoch 33, CIFAR-10 Batch 3:  Loss:     0, Accuracy: 100.00%, | Valication Loss:   670, Valication Accuracy: 59.38%\n",
      "Epoch 33, CIFAR-10 Batch 4:  Loss:     0, Accuracy: 100.00%, | Valication Loss:   774, Valication Accuracy: 57.96%\n",
      "Epoch 33, CIFAR-10 Batch 5:  Loss:     0, Accuracy: 100.00%, | Valication Loss:   639, Valication Accuracy: 60.22%\n",
      "Epoch 34, CIFAR-10 Batch 1:  Loss:     0, Accuracy: 100.00%, | Valication Loss:   815, Valication Accuracy: 55.08%\n",
      "Epoch 34, CIFAR-10 Batch 2:  Loss:     0, Accuracy: 100.00%, | Valication Loss:   723, Valication Accuracy: 58.48%\n",
      "Epoch 34, CIFAR-10 Batch 3:  Loss:     0, Accuracy: 100.00%, | Valication Loss:   700, Valication Accuracy: 59.20%\n",
      "Epoch 34, CIFAR-10 Batch 4:  Loss:     0, Accuracy: 100.00%, | Valication Loss:   648, Valication Accuracy: 59.48%\n",
      "Epoch 34, CIFAR-10 Batch 5:  Loss:     0, Accuracy: 100.00%, | Valication Loss:   663, Valication Accuracy: 59.60%\n",
      "Epoch 35, CIFAR-10 Batch 1:  Loss:    13, Accuracy: 97.50%, | Valication Loss:   920, Valication Accuracy: 55.36%\n",
      "Epoch 35, CIFAR-10 Batch 2:  Loss:     5, Accuracy: 97.50%, | Valication Loss:   838, Valication Accuracy: 55.72%\n",
      "Epoch 35, CIFAR-10 Batch 3:  Loss:     0, Accuracy: 100.00%, | Valication Loss:   665, Valication Accuracy: 59.18%\n",
      "Epoch 35, CIFAR-10 Batch 4:  Loss:     0, Accuracy: 100.00%, | Valication Loss:   646, Valication Accuracy: 59.08%\n",
      "Epoch 35, CIFAR-10 Batch 5:  Loss:     0, Accuracy: 100.00%, | Valication Loss:   644, Valication Accuracy: 59.40%\n",
      "Epoch 36, CIFAR-10 Batch 1:  Loss:     0, Accuracy: 100.00%, | Valication Loss:   647, Valication Accuracy: 59.72%\n",
      "Epoch 36, CIFAR-10 Batch 2:  Loss:     0, Accuracy: 100.00%, | Valication Loss:   769, Valication Accuracy: 56.64%\n",
      "Epoch 36, CIFAR-10 Batch 3:  Loss:     0, Accuracy: 100.00%, | Valication Loss:   692, Valication Accuracy: 58.20%\n",
      "Epoch 36, CIFAR-10 Batch 4:  Loss:     0, Accuracy: 100.00%, | Valication Loss:   643, Valication Accuracy: 59.66%\n",
      "Epoch 36, CIFAR-10 Batch 5:  Loss:     0, Accuracy: 100.00%, | Valication Loss:   655, Valication Accuracy: 58.70%\n",
      "Epoch 37, CIFAR-10 Batch 1:  Loss:     0, Accuracy: 100.00%, | Valication Loss:   642, Valication Accuracy: 59.80%\n",
      "Epoch 37, CIFAR-10 Batch 2:  Loss:     0, Accuracy: 100.00%, | Valication Loss:   622, Valication Accuracy: 60.44%\n",
      "Epoch 37, CIFAR-10 Batch 3:  Loss:     0, Accuracy: 100.00%, | Valication Loss:   637, Valication Accuracy: 60.54%\n",
      "Epoch 37, CIFAR-10 Batch 4:  Loss:     0, Accuracy: 100.00%, | Valication Loss:   650, Valication Accuracy: 59.44%\n",
      "Epoch 37, CIFAR-10 Batch 5:  Loss:     0, Accuracy: 100.00%, | Valication Loss:   645, Valication Accuracy: 59.74%\n",
      "Epoch 38, CIFAR-10 Batch 1:  Loss:     0, Accuracy: 100.00%, | Valication Loss:   633, Valication Accuracy: 60.92%\n",
      "Epoch 38, CIFAR-10 Batch 2:  Loss:     0, Accuracy: 100.00%, | Valication Loss:   633, Valication Accuracy: 60.54%\n",
      "Epoch 38, CIFAR-10 Batch 3:  Loss:     0, Accuracy: 100.00%, | Valication Loss:   643, Valication Accuracy: 60.08%\n",
      "Epoch 38, CIFAR-10 Batch 4:  Loss:     0, Accuracy: 100.00%, | Valication Loss:   654, Valication Accuracy: 59.44%\n",
      "Epoch 38, CIFAR-10 Batch 5:  Loss:     0, Accuracy: 100.00%, | Valication Loss:   653, Valication Accuracy: 59.90%\n",
      "Epoch 39, CIFAR-10 Batch 1:  Loss:     0, Accuracy: 100.00%, | Valication Loss:   638, Valication Accuracy: 60.32%\n",
      "Epoch 39, CIFAR-10 Batch 2:  Loss:     0, Accuracy: 100.00%, | Valication Loss:   657, Valication Accuracy: 60.30%\n",
      "Epoch 39, CIFAR-10 Batch 3:  Loss:     0, Accuracy: 100.00%, | Valication Loss:   630, Valication Accuracy: 60.52%\n",
      "Epoch 39, CIFAR-10 Batch 4:  Loss:     0, Accuracy: 100.00%, | Valication Loss:   647, Valication Accuracy: 60.02%\n",
      "Epoch 39, CIFAR-10 Batch 5:  Loss:     0, Accuracy: 100.00%, | Valication Loss:   693, Valication Accuracy: 58.64%\n",
      "Epoch 40, CIFAR-10 Batch 1:  Loss:     0, Accuracy: 100.00%, | Valication Loss:   633, Valication Accuracy: 60.54%\n",
      "Epoch 40, CIFAR-10 Batch 2:  Loss:     0, Accuracy: 100.00%, | Valication Loss:   645, Valication Accuracy: 60.48%\n",
      "Epoch 40, CIFAR-10 Batch 3:  Loss:     0, Accuracy: 100.00%, | Valication Loss:   645, Valication Accuracy: 60.22%\n",
      "Epoch 40, CIFAR-10 Batch 4:  Loss:     0, Accuracy: 100.00%, | Valication Loss:   672, Valication Accuracy: 58.48%\n",
      "Epoch 40, CIFAR-10 Batch 5:  Loss:     0, Accuracy: 100.00%, | Valication Loss:   673, Valication Accuracy: 59.54%\n"
     ]
    }
   ],
   "source": [
    "\"\"\"\n",
    "DON'T MODIFY ANYTHING IN THIS CELL\n",
    "\"\"\"\n",
    "save_model_path = './image_classification'\n",
    "\n",
    "print('Training...')\n",
    "with tf.Session() as sess:\n",
    "    # Initializing the variables\n",
    "    sess.run(tf.global_variables_initializer())\n",
    "    \n",
    "    # Training cycle\n",
    "    for epoch in range(epochs):\n",
    "        # Loop over all batches\n",
    "        n_batches = 5\n",
    "        for batch_i in range(1, n_batches + 1):\n",
    "            for batch_features, batch_labels in helper.load_preprocess_training_batch(batch_i, batch_size):\n",
    "                train_neural_network(sess, optimizer, keep_probability, batch_features, batch_labels)\n",
    "            print('Epoch {:>2}, CIFAR-10 Batch {}:  '.format(epoch + 1, batch_i), end='')\n",
    "            print_stats(sess, batch_features, batch_labels, cost, accuracy)\n",
    "            \n",
    "    # Save Model\n",
    "    saver = tf.train.Saver()\n",
    "    save_path = saver.save(sess, save_model_path)"
   ]
  },
  {
   "cell_type": "markdown",
   "metadata": {},
   "source": [
    "# Checkpoint\n",
    "The model has been saved to disk.\n",
    "## Test Model\n",
    "Test your model against the test dataset.  This will be your final accuracy. You should have an accuracy greater than 50%. If you don't, keep tweaking the model architecture and parameters."
   ]
  },
  {
   "cell_type": "code",
   "execution_count": 21,
   "metadata": {},
   "outputs": [
    {
     "name": "stdout",
     "output_type": "stream",
     "text": [
      "INFO:tensorflow:Restoring parameters from ./image_classification\n",
      "Testing Accuracy: 0.59365234375\n",
      "\n"
     ]
    },
    {
     "data": {
      "image/png": "[encoded data removed]",
      "text/plain": [
       "<matplotlib.figure.Figure at 0x7f74197f4780>"
      ]
     },
     "metadata": {
      "image/png": {
       "height": 319,
       "width": 349
      }
     },
     "output_type": "display_data"
    }
   ],
   "source": [
    "\"\"\"\n",
    "DON'T MODIFY ANYTHING IN THIS CELL\n",
    "\"\"\"\n",
    "%matplotlib inline\n",
    "%config InlineBackend.figure_format = 'retina'\n",
    "\n",
    "import tensorflow as tf\n",
    "import pickle\n",
    "import helper\n",
    "import random\n",
    "\n",
    "# Set batch size if not already set\n",
    "try:\n",
    "    if batch_size:\n",
    "        pass\n",
    "except NameError:\n",
    "    batch_size = 64\n",
    "\n",
    "save_model_path = './image_classification'\n",
    "n_samples = 4\n",
    "top_n_predictions = 3\n",
    "\n",
    "def test_model():\n",
    "    \"\"\"\n",
    "    Test the saved model against the test dataset\n",
    "    \"\"\"\n",
    "\n",
    "    test_features, test_labels = pickle.load(open('preprocess_test.p', mode='rb'))\n",
    "    loaded_graph = tf.Graph()\n",
    "\n",
    "    with tf.Session(graph=loaded_graph) as sess:\n",
    "        # Load model\n",
    "        loader = tf.train.import_meta_graph(save_model_path + '.meta')\n",
    "        loader.restore(sess, save_model_path)\n",
    "\n",
    "        # Get Tensors from loaded model\n",
    "        loaded_x = loaded_graph.get_tensor_by_name('x:0')\n",
    "        loaded_y = loaded_graph.get_tensor_by_name('y:0')\n",
    "        loaded_keep_prob = loaded_graph.get_tensor_by_name('keep_prob:0')\n",
    "        loaded_logits = loaded_graph.get_tensor_by_name('logits:0')\n",
    "        loaded_acc = loaded_graph.get_tensor_by_name('accuracy:0')\n",
    "        \n",
    "        # Get accuracy in batches for memory limitations\n",
    "        test_batch_acc_total = 0\n",
    "        test_batch_count = 0\n",
    "        \n",
    "        for test_feature_batch, test_label_batch in helper.batch_features_labels(test_features, test_labels, batch_size):\n",
    "            test_batch_acc_total += sess.run(\n",
    "                loaded_acc,\n",
    "                feed_dict={loaded_x: test_feature_batch, loaded_y: test_label_batch, loaded_keep_prob: 1.0})\n",
    "            test_batch_count += 1\n",
    "\n",
    "        print('Testing Accuracy: {}\\n'.format(test_batch_acc_total/test_batch_count))\n",
    "\n",
    "        # Print Random Samples\n",
    "        random_test_features, random_test_labels = tuple(zip(*random.sample(list(zip(test_features, test_labels)), n_samples)))\n",
    "        random_test_predictions = sess.run(\n",
    "            tf.nn.top_k(tf.nn.softmax(loaded_logits), top_n_predictions),\n",
    "            feed_dict={loaded_x: random_test_features, loaded_y: random_test_labels, loaded_keep_prob: 1.0})\n",
    "        helper.display_image_predictions(random_test_features, random_test_labels, random_test_predictions)\n",
    "\n",
    "\n",
    "test_model()"
   ]
  },
  {
   "cell_type": "markdown",
   "metadata": {},
   "source": [
    "## Why 50-80% Accuracy?\n",
    "You might be wondering why you can't get an accuracy any higher. First things first, 50% isn't bad for a simple CNN.  Pure guessing would get you 10% accuracy. However, you might notice people are getting scores [well above 80%](http://rodrigob.github.io/are_we_there_yet/build/classification_datasets_results.html#43494641522d3130).  That's because we haven't taught you all there is to know about neural networks. We still need to cover a few more techniques.\n",
    "## Submitting This Project\n",
    "When submitting this project, make sure to run all the cells before saving the notebook.  Save the notebook file as \"dlnd_image_classification.ipynb\" and save it as a HTML file under \"File\" -> \"Download as\".  Include the \"helper.py\" and \"problem_unittests.py\" files in your submission."
   ]
  }
 ],
 "metadata": {
  "kernelspec": {
   "display_name": "Python [conda env:tensorflow]",
   "language": "python",
   "name": "conda-env-tensorflow-py"
  },
  "language_info": {
   "codemirror_mode": {
    "name": "ipython",
    "version": 3
   },
   "file_extension": ".py",
   "mimetype": "text/x-python",
   "name": "python",
   "nbconvert_exporter": "python",
   "pygments_lexer": "ipython3",
   "version": "3.5.4"
  }
 },
 "nbformat": 4,
 "nbformat_minor": 1
}
